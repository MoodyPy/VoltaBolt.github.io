{
 "cells": [
  {
   "cell_type": "markdown",
   "metadata": {},
   "source": [
    "# Import Libraries "
   ]
  },
  {
   "cell_type": "code",
   "execution_count": 41,
   "metadata": {},
   "outputs": [],
   "source": [
    "#Selenium - Chrome Driver to Scrape Web Pages \n",
    "#Beautiful Soup - Web Scrapper \n",
    "#Requests - Get/Post informaton fetching using URLs\n",
    "#Pandas - For Data handling and analysis\n",
    "#pymongo - Database\n",
    "\n",
    "from selenium import webdriver\n",
    "from bs4 import BeautifulSoup\n",
    "import requests\n",
    "import pandas as pd\n",
    "import pymongo\n",
    "from urllib.request import urlopen"
   ]
  },
  {
   "cell_type": "markdown",
   "metadata": {},
   "source": [
    "# Selenium Chrome Driver Set Up\n",
    "### Two Coders with different Paths to the Executable file "
   ]
  },
  {
   "cell_type": "markdown",
   "metadata": {},
   "source": [
    "## Yamini's Driver Path"
   ]
  },
  {
   "cell_type": "code",
   "execution_count": 42,
   "metadata": {},
   "outputs": [],
   "source": [
    "#Commented when used by Pratham Doshi\n",
    "#driver= webdriver.Chrome('C:/Users/renuka/Desktop/chromedriver.exe')"
   ]
  },
  {
   "cell_type": "markdown",
   "metadata": {},
   "source": [
    "## Pratham's Driver Path"
   ]
  },
  {
   "cell_type": "code",
   "execution_count": 43,
   "metadata": {},
   "outputs": [],
   "source": [
    "#Commented when used by Yamini\n",
    "driver = webdriver.Chrome('/Users/prathamdoshi/Desktop/chromedriver')"
   ]
  },
  {
   "cell_type": "markdown",
   "metadata": {},
   "source": [
    "# Fetching Information "
   ]
  },
  {
   "cell_type": "code",
   "execution_count": 44,
   "metadata": {},
   "outputs": [],
   "source": [
    "driver.get(\"https://pluginamerica.org/vehicles/?fwp_type=ev\")\n",
    "plugin_america_website_soup = BeautifulSoup(driver.page_source,\"lxml\")\n",
    "driver.quit()"
   ]
  },
  {
   "cell_type": "markdown",
   "metadata": {},
   "source": [
    "# Get Car Model/Make"
   ]
  },
  {
   "cell_type": "code",
   "execution_count": 45,
   "metadata": {},
   "outputs": [],
   "source": [
    "#html object that has all the car models listed\n",
    "car_models_list_html = plugin_america_website_soup.find_all('td', class_=\"make_model sorting_1\")\n",
    "\n",
    "#Extracting the company name and the model out of the html object\n",
    "car_make_model = []\n",
    "car_company = []\n",
    "\n",
    "for model_make in car_models_list_html:\n",
    "    model_make_text_string = model_make.text\n",
    "    model_make_string_splitter = model_make_text_string.split(' ',1)\n",
    "    car_company.append(model_make_string_splitter[0])\n",
    "    car_make_model.append(model_make_text_string)"
   ]
  },
  {
   "cell_type": "markdown",
   "metadata": {},
   "source": [
    "# Get Car Description"
   ]
  },
  {
   "cell_type": "code",
   "execution_count": 46,
   "metadata": {},
   "outputs": [],
   "source": [
    "#html object that has all the car descriptions listed\n",
    "car_description_list_html = plugin_america_website_soup.find_all('td', class_=\"car_description\")\n",
    "#Extracting the car description out of the html object\n",
    "cars_descriptions = []\n",
    "\n",
    "for description in car_description_list_html:\n",
    "    description_text_string = description.p.text\n",
    "    cars_descriptions.append(description_text_string)"
   ]
  },
  {
   "cell_type": "markdown",
   "metadata": {},
   "source": [
    "# Get Car Range"
   ]
  },
  {
   "cell_type": "code",
   "execution_count": 47,
   "metadata": {},
   "outputs": [],
   "source": [
    "#html object that has all the car ranges listed\n",
    "car_range_list_html = plugin_america_website_soup.find_all('td', class_=\"car_range\")\n",
    "#Extracting the car ranges out of the html object\n",
    "cars_ranges = []\n",
    "\n",
    "for range_ in car_range_list_html:\n",
    "    range_text_string = range_.p.text\n",
    "    range_text_string = range_text_string.rstrip().replace('\\t', '')\n",
    "    cars_ranges.append(range_text_string)\n"
   ]
  },
  {
   "cell_type": "markdown",
   "metadata": {},
   "source": [
    "# Get Number of Seats"
   ]
  },
  {
   "cell_type": "code",
   "execution_count": 48,
   "metadata": {},
   "outputs": [],
   "source": [
    "#html object that has number of seats in a car listed\n",
    "car_seats_list_html = plugin_america_website_soup.find_all('td', class_=\"number_of_seats\")\n",
    "#Extracting the car seats out of the html object\n",
    "cars_no_of_seats = []\n",
    "\n",
    "for seats in car_seats_list_html:\n",
    "    seats_text_string = seats.p.text\n",
    "    cars_no_of_seats.append(seats_text_string)"
   ]
  },
  {
   "cell_type": "markdown",
   "metadata": {},
   "source": [
    "# Get Price"
   ]
  },
  {
   "cell_type": "code",
   "execution_count": 49,
   "metadata": {},
   "outputs": [],
   "source": [
    "#html object that has car prices listed\n",
    "car_prices_list_html = plugin_america_website_soup.find_all('td', class_=\"car_price\")\n",
    "#Extracting the car seats out of the html object\n",
    "cars_price = []\n",
    "\n",
    "for price in car_prices_list_html:\n",
    "    price_text_string = price.p.text\n",
    "    price_text_string = price_text_string.rstrip().replace('\\t', '')\n",
    "    price_text_string = price_text_string.rstrip().replace('  ', '')\n",
    "    cars_price.append(price_text_string)"
   ]
  },
  {
   "cell_type": "markdown",
   "metadata": {},
   "source": [
    "# Get Images"
   ]
  },
  {
   "cell_type": "code",
   "execution_count": 50,
   "metadata": {},
   "outputs": [],
   "source": [
    "#html object that has car images URL listed\n",
    "car_images_list_html = plugin_america_website_soup.find_all('td', class_=\"car_img\")\n",
    "cars_images_url = []\n",
    "\n",
    "for url in car_images_list_html:\n",
    "    cars_images_url.append((url.a.attrs['href']))"
   ]
  },
  {
   "cell_type": "markdown",
   "metadata": {},
   "source": [
    "# Object to Return"
   ]
  },
  {
   "cell_type": "code",
   "execution_count": 51,
   "metadata": {},
   "outputs": [],
   "source": [
    "cars_information = []\n",
    "cars_information_appender = dict()\n",
    "for i in range(len(car_company)):\n",
    "    cars_information_appender = {\n",
    "                            car_make_model[i] : {\n",
    "                                                 'Company':car_company[i],\n",
    "                                                 'Image Url':cars_images_url[i],\n",
    "                                                 'Description':cars_descriptions[i],\n",
    "                                                 'Price':cars_price[i],\n",
    "                                                 'Range':cars_ranges[i],\n",
    "                                                 'Number of Seats':cars_no_of_seats[i]                          \n",
    "                                                } \n",
    "                                }\n",
    "    cars_information.append(cars_information_appender)\n",
    "    \n",
    "cars_information = []\n",
    "    cars_information_appender = dict()\n",
    "    for i in range(len(car_company)):\n",
    "        cars_information_appender = {\n",
    "                                     car_make_model[i] : {\n",
    "                                                 'Company':car_company[i],\n",
    "                                                 'Image Url':cars_images_url[i],\n",
    "                                                 'Description':cars_descriptions[i],\n",
    "                                                 'Price':cars_price[i],\n",
    "                                                 'Range':cars_ranges[i],\n",
    "                                                 'Number of Seats':cars_no_of_seats[i]                          \n",
    "                                                } \n",
    "                                }\n",
    "        cars_information.append(cars_information_appender)"
   ]
  },
  {
   "cell_type": "markdown",
   "metadata": {},
   "source": [
    "# Database Integration\n",
    "## Database Name : Cars_DB, Collection Name: Cars"
   ]
  },
  {
   "cell_type": "code",
   "execution_count": 52,
   "metadata": {},
   "outputs": [
    {
     "data": {
      "text/plain": [
       "<pymongo.results.InsertManyResult at 0x1195d6318>"
      ]
     },
     "execution_count": 52,
     "metadata": {},
     "output_type": "execute_result"
    }
   ],
   "source": [
    "# Initialize PyMongo to work with MongoDBs\n",
    "conn = 'mongodb://localhost:27017'\n",
    "client = pymongo.MongoClient(conn)\n",
    "\n",
    "# Define database and collection\n",
    "db = client.Cars_DB\n",
    "collection = db.Cars\n",
    "\n",
    "#collection insert\n",
    "collection.insert_many(cars_information)"
   ]
  }
 ],
 "metadata": {
  "kernelspec": {
   "display_name": "Python 3",
   "language": "python",
   "name": "python3"
  },
  "language_info": {
   "codemirror_mode": {
    "name": "ipython",
    "version": 3
   },
   "file_extension": ".py",
   "mimetype": "text/x-python",
   "name": "python",
   "nbconvert_exporter": "python",
   "pygments_lexer": "ipython3",
   "version": "3.6.4"
  }
 },
 "nbformat": 4,
 "nbformat_minor": 2
}
