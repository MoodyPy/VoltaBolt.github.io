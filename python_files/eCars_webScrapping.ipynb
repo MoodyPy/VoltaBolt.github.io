{
 "cells": [
  {
   "cell_type": "code",
   "execution_count": 1,
   "metadata": {},
   "outputs": [],
   "source": [
    "from selenium import webdriver\n",
    "from bs4 import BeautifulSoup\n",
    "import requests"
   ]
  },
  {
   "cell_type": "code",
   "execution_count": 2,
   "metadata": {},
   "outputs": [],
   "source": [
    "driver= webdriver.Chrome('C:/Users/renuka/Desktop/chromedriver.exe')"
   ]
  },
  {
   "cell_type": "code",
   "execution_count": 3,
   "metadata": {},
   "outputs": [],
   "source": [
    "import pandas as pd"
   ]
  },
  {
   "cell_type": "code",
   "execution_count": null,
   "metadata": {},
   "outputs": [],
   "source": []
  },
  {
   "cell_type": "code",
   "execution_count": 4,
   "metadata": {},
   "outputs": [],
   "source": [
    "driver.get(\"https://pluginamerica.org/vehicles/?fwp_type=ev\")\n",
    "soup1 = BeautifulSoup(driver.page_source,\"lxml\")\n",
    "driver.quit()"
   ]
  },
  {
   "cell_type": "code",
   "execution_count": 9,
   "metadata": {},
   "outputs": [
    {
     "name": "stdout",
     "output_type": "stream",
     "text": [
      "['BMW', 'i3']\n",
      "['Chevrolet', 'Bolt EV']\n",
      "['Fiat', '500e']\n",
      "['Ford', 'Focus Electric']\n",
      "['Honda', 'Clarity Electric']\n",
      "['Hyundai', 'Ioniq Electric']\n",
      "['Kia', 'Soul EV']\n",
      "['Mercedes', 'B250e']\n",
      "['Nissan', 'LEAF']\n",
      "['Quantya', 'Strada']\n",
      "['Smart', 'ED']\n",
      "['Tesla', 'Model 3']\n",
      "['Tesla', 'Model S']\n",
      "['Tesla', 'Model X']\n",
      "['Victory', 'Empulse TT']\n",
      "['Volkswagen', 'e-Golf']\n"
     ]
    }
   ],
   "source": [
    "make_model_list = []\n",
    "for i in range(16):\n",
    "    name_of_car = soup1.select(\".make_model.sorting_1\")[i].text\n",
    "    car_split = name_of_car.split(' ',1)\n",
    "    print(car_split)\n",
    "    make_model_list.append(name_of_car)"
   ]
  },
  {
   "cell_type": "code",
   "execution_count": null,
   "metadata": {},
   "outputs": [],
   "source": []
  },
  {
   "cell_type": "code",
   "execution_count": null,
   "metadata": {},
   "outputs": [],
   "source": []
  },
  {
   "cell_type": "code",
   "execution_count": null,
   "metadata": {},
   "outputs": [],
   "source": []
  },
  {
   "cell_type": "code",
   "execution_count": 7,
   "metadata": {},
   "outputs": [
    {
     "data": {
      "text/plain": [
       "16"
      ]
     },
     "execution_count": 7,
     "metadata": {},
     "output_type": "execute_result"
    }
   ],
   "source": [
    "len(make_model_list)"
   ]
  },
  {
   "cell_type": "code",
   "execution_count": 6,
   "metadata": {},
   "outputs": [
    {
     "data": {
      "text/plain": [
       "['BMW i3',\n",
       " 'Chevrolet Bolt EV',\n",
       " 'Fiat 500e',\n",
       " 'Ford Focus Electric',\n",
       " 'Honda Clarity Electric',\n",
       " 'Hyundai Ioniq Electric',\n",
       " 'Kia Soul EV',\n",
       " 'Mercedes B250e',\n",
       " 'Nissan LEAF',\n",
       " 'Quantya Strada',\n",
       " 'Smart ED',\n",
       " 'Tesla Model 3',\n",
       " 'Tesla Model S',\n",
       " 'Tesla Model X',\n",
       " 'Victory Empulse TT',\n",
       " 'Volkswagen e-Golf']"
      ]
     },
     "execution_count": 6,
     "metadata": {},
     "output_type": "execute_result"
    }
   ],
   "source": [
    "make_model_list"
   ]
  },
  {
   "cell_type": "code",
   "execution_count": 8,
   "metadata": {},
   "outputs": [],
   "source": [
    "url =[]\n",
    "for i in range(17):\n",
    "    url.append(soup1.select(\".car_img\")[i])"
   ]
  },
  {
   "cell_type": "code",
   "execution_count": 9,
   "metadata": {},
   "outputs": [],
   "source": [
    "url_list = []\n",
    "for i in url:\n",
    "    a_tag = i.select(\"a\")\n",
    "    for item in a_tag:\n",
    "        web_url = item.attrs['href']\n",
    "        url_list.append(web_url)\n"
   ]
  },
  {
   "cell_type": "code",
   "execution_count": 10,
   "metadata": {},
   "outputs": [
    {
     "data": {
      "text/plain": [
       "16"
      ]
     },
     "execution_count": 10,
     "metadata": {},
     "output_type": "execute_result"
    }
   ],
   "source": [
    "len(url_list)"
   ]
  },
  {
   "cell_type": "code",
   "execution_count": null,
   "metadata": {},
   "outputs": [],
   "source": [
    "#for k in range(16):\n",
    "#    a_tag = soup1.select(\"a\")\n",
    "#    for item in a_tag:\n",
    "#        web_url = item.attrs['href']\n",
    "#    print(web_url)\n",
    "#img_tag= soup1.select(\".car_img\")[k]"
   ]
  },
  {
   "cell_type": "code",
   "execution_count": 11,
   "metadata": {},
   "outputs": [],
   "source": [
    "description_list1 = []\n",
    "for car_des in range(17):\n",
    "    car_description = soup1.select(\".car_description\")[car_des].text.strip()\n",
    "    description_list1.append(car_description)"
   ]
  },
  {
   "cell_type": "code",
   "execution_count": 12,
   "metadata": {},
   "outputs": [
    {
     "data": {
      "text/plain": [
       "'Description'"
      ]
     },
     "execution_count": 12,
     "metadata": {},
     "output_type": "execute_result"
    }
   ],
   "source": [
    "description_list1.pop(0)"
   ]
  },
  {
   "cell_type": "code",
   "execution_count": 13,
   "metadata": {},
   "outputs": [
    {
     "data": {
      "text/plain": [
       "16"
      ]
     },
     "execution_count": 13,
     "metadata": {},
     "output_type": "execute_result"
    }
   ],
   "source": [
    "len(description_list1)"
   ]
  },
  {
   "cell_type": "code",
   "execution_count": null,
   "metadata": {},
   "outputs": [],
   "source": []
  },
  {
   "cell_type": "code",
   "execution_count": 14,
   "metadata": {},
   "outputs": [],
   "source": [
    "electric_range = []\n",
    "for e_range in range(17):\n",
    "    electric_range.append(soup1.select(\".car_range\")[e_range])\n",
    "    #text1 = soup1.select(\"p\")[e_range].text\n",
    "    #print(text1)\n",
    "            "
   ]
  },
  {
   "cell_type": "code",
   "execution_count": null,
   "metadata": {},
   "outputs": [],
   "source": [
    "#electric_range"
   ]
  },
  {
   "cell_type": "code",
   "execution_count": 15,
   "metadata": {},
   "outputs": [],
   "source": [
    "electric_range_list2 = []\n",
    "for i in electric_range:\n",
    "    if(i.p):\n",
    "        electric_range_list2.append(i.p.text)"
   ]
  },
  {
   "cell_type": "code",
   "execution_count": 16,
   "metadata": {},
   "outputs": [
    {
     "data": {
      "text/plain": [
       "16"
      ]
     },
     "execution_count": 16,
     "metadata": {},
     "output_type": "execute_result"
    }
   ],
   "source": [
    "len(electric_range_list2)"
   ]
  },
  {
   "cell_type": "code",
   "execution_count": 17,
   "metadata": {},
   "outputs": [],
   "source": [
    "price_list = []\n",
    "for price in range(17):\n",
    "    price_list.append(soup1.select(\".car_price\")[price])\n",
    "    "
   ]
  },
  {
   "cell_type": "code",
   "execution_count": 18,
   "metadata": {},
   "outputs": [],
   "source": [
    "car_price_list =[]\n",
    "for i in price_list:\n",
    "    if(i.p):\n",
    "        car_price_list.append(i.p.text)"
   ]
  },
  {
   "cell_type": "code",
   "execution_count": 19,
   "metadata": {},
   "outputs": [
    {
     "data": {
      "text/plain": [
       "16"
      ]
     },
     "execution_count": 19,
     "metadata": {},
     "output_type": "execute_result"
    }
   ],
   "source": [
    "len(car_price_list)"
   ]
  },
  {
   "cell_type": "code",
   "execution_count": null,
   "metadata": {},
   "outputs": [],
   "source": []
  },
  {
   "cell_type": "code",
   "execution_count": 20,
   "metadata": {},
   "outputs": [],
   "source": [
    "eCars_df = pd.DataFrame({'make/model':make_model_list,\n",
    "                         'price':car_price_list,\n",
    "                         'range':electric_range_list2,\n",
    "                         'url':url_list,\n",
    "                         'description':description_list1})"
   ]
  },
  {
   "cell_type": "code",
   "execution_count": 21,
   "metadata": {},
   "outputs": [
    {
     "data": {
      "text/html": [
       "<div>\n",
       "<style scoped>\n",
       "    .dataframe tbody tr th:only-of-type {\n",
       "        vertical-align: middle;\n",
       "    }\n",
       "\n",
       "    .dataframe tbody tr th {\n",
       "        vertical-align: top;\n",
       "    }\n",
       "\n",
       "    .dataframe thead th {\n",
       "        text-align: right;\n",
       "    }\n",
       "</style>\n",
       "<table border=\"1\" class=\"dataframe\">\n",
       "  <thead>\n",
       "    <tr style=\"text-align: right;\">\n",
       "      <th></th>\n",
       "      <th>description</th>\n",
       "      <th>make/model</th>\n",
       "      <th>price</th>\n",
       "      <th>range</th>\n",
       "      <th>url</th>\n",
       "    </tr>\n",
       "  </thead>\n",
       "  <tbody>\n",
       "    <tr>\n",
       "      <th>0</th>\n",
       "      <td>The 2017 i3 is BMW’s first full scale producti...</td>\n",
       "      <td>BMW i3</td>\n",
       "      <td>$41,350</td>\n",
       "      <td>114 mi</td>\n",
       "      <td>https://pluginamerica.org/plug-in-vehicle/bmw-i3/</td>\n",
       "    </tr>\n",
       "    <tr>\n",
       "      <th>1</th>\n",
       "      <td>The 2017 Chevrolet Bolt EV is a long-range all...</td>\n",
       "      <td>Chevrolet Bolt EV</td>\n",
       "      <td>$37,495</td>\n",
       "      <td>238 mi</td>\n",
       "      <td>https://pluginamerica.org/plug-in-vehicle/chev...</td>\n",
       "    </tr>\n",
       "    <tr>\n",
       "      <th>2</th>\n",
       "      <td>The 2017 Fiat 500e is an all electric version ...</td>\n",
       "      <td>Fiat 500e</td>\n",
       "      <td>$32,500</td>\n",
       "      <td>87 mi</td>\n",
       "      <td>https://pluginamerica.org/plug-in-vehicle/fiat...</td>\n",
       "    </tr>\n",
       "    <tr>\n",
       "      <th>3</th>\n",
       "      <td>The 2017 Focus Electric is based on Ford’s nex...</td>\n",
       "      <td>Ford Focus Electric</td>\n",
       "      <td>$29,170</td>\n",
       "      <td>115 mi</td>\n",
       "      <td>https://pluginamerica.org/plug-in-vehicle/ford...</td>\n",
       "    </tr>\n",
       "    <tr>\n",
       "      <th>4</th>\n",
       "      <td>The Clarity Electric is an all-electric four-d...</td>\n",
       "      <td>Honda Clarity Electric</td>\n",
       "      <td>$37,495</td>\n",
       "      <td>89 mi</td>\n",
       "      <td>https://pluginamerica.org/plug-in-vehicle/hond...</td>\n",
       "    </tr>\n",
       "    <tr>\n",
       "      <th>5</th>\n",
       "      <td>The 2017 Hyundai Ioniq Electric is an all-elec...</td>\n",
       "      <td>Hyundai Ioniq Electric</td>\n",
       "      <td>$29,500</td>\n",
       "      <td>124 mi</td>\n",
       "      <td>https://pluginamerica.org/plug-in-vehicle/hyun...</td>\n",
       "    </tr>\n",
       "    <tr>\n",
       "      <th>6</th>\n",
       "      <td>The 2018 Soul EV is an all electric version of...</td>\n",
       "      <td>Kia Soul EV</td>\n",
       "      <td>$33,700</td>\n",
       "      <td>111 mi</td>\n",
       "      <td>https://pluginamerica.org/plug-in-vehicle/kia-...</td>\n",
       "    </tr>\n",
       "    <tr>\n",
       "      <th>7</th>\n",
       "      <td>The 2017 Mercedes B-Class B250e Electric Drive...</td>\n",
       "      <td>Mercedes B250e</td>\n",
       "      <td>$41,450</td>\n",
       "      <td>87 mi</td>\n",
       "      <td>https://pluginamerica.org/plug-in-vehicle/merc...</td>\n",
       "    </tr>\n",
       "    <tr>\n",
       "      <th>8</th>\n",
       "      <td>The all-new 2nd generation 2018 Nissan LEAF is...</td>\n",
       "      <td>Nissan LEAF</td>\n",
       "      <td>$29,900</td>\n",
       "      <td>151 mi</td>\n",
       "      <td>https://pluginamerica.org/plug-in-vehicle/niss...</td>\n",
       "    </tr>\n",
       "    <tr>\n",
       "      <th>9</th>\n",
       "      <td>Street-legal version of the Swiss Quantya Trac...</td>\n",
       "      <td>Quantya Strada</td>\n",
       "      <td>$10,700</td>\n",
       "      <td>30 mi</td>\n",
       "      <td>https://pluginamerica.org/plug-in-vehicle/quan...</td>\n",
       "    </tr>\n",
       "    <tr>\n",
       "      <th>10</th>\n",
       "      <td>The 2017 Smart ED is an OEM conversion of the ...</td>\n",
       "      <td>Smart ED</td>\n",
       "      <td>$25,000</td>\n",
       "      <td>68 mi</td>\n",
       "      <td>https://pluginamerica.org/plug-in-vehicle/smar...</td>\n",
       "    </tr>\n",
       "    <tr>\n",
       "      <th>11</th>\n",
       "      <td>The Model 3 is an all-electric four door luxur...</td>\n",
       "      <td>Tesla Model 3</td>\n",
       "      <td>$35,000\\t\\t\\t\\t                       - $57,000</td>\n",
       "      <td>220 mi\\t\\t\\t\\t\\t\\t\\t\\t\\t\\t - 310 mi</td>\n",
       "      <td>https://pluginamerica.org/plug-in-vehicle/tesl...</td>\n",
       "    </tr>\n",
       "    <tr>\n",
       "      <th>12</th>\n",
       "      <td>The 2017 Model S is a 4-door “fastback” sedan ...</td>\n",
       "      <td>Tesla Model S</td>\n",
       "      <td>$66,000\\t\\t\\t\\t                       - $89,500</td>\n",
       "      <td>210 mi\\t\\t\\t\\t\\t\\t\\t\\t\\t\\t - 335 mi</td>\n",
       "      <td>https://pluginamerica.org/plug-in-vehicle/tesl...</td>\n",
       "    </tr>\n",
       "    <tr>\n",
       "      <th>13</th>\n",
       "      <td>The 2017 Tesla Model X is an all-electric all-...</td>\n",
       "      <td>Tesla Model X</td>\n",
       "      <td>$74,000\\t\\t\\t\\t                       - $95,500</td>\n",
       "      <td>237 mi\\t\\t\\t\\t\\t\\t\\t\\t\\t\\t - 295 mi</td>\n",
       "      <td>https://pluginamerica.org/plug-in-vehicle/tesl...</td>\n",
       "    </tr>\n",
       "    <tr>\n",
       "      <th>14</th>\n",
       "      <td>The 2017 Victory Empulse TT has a 6 speed tran...</td>\n",
       "      <td>Victory Empulse TT</td>\n",
       "      <td>$16,995</td>\n",
       "      <td>130 mi</td>\n",
       "      <td>https://pluginamerica.org/plug-in-vehicle/vict...</td>\n",
       "    </tr>\n",
       "    <tr>\n",
       "      <th>15</th>\n",
       "      <td>The 2017 Volkswagen e-Golf, formerly “Golf Blu...</td>\n",
       "      <td>Volkswagen e-Golf</td>\n",
       "      <td>$36,265</td>\n",
       "      <td>125 mi</td>\n",
       "      <td>https://pluginamerica.org/plug-in-vehicle/volk...</td>\n",
       "    </tr>\n",
       "  </tbody>\n",
       "</table>\n",
       "</div>"
      ],
      "text/plain": [
       "                                          description              make/model  \\\n",
       "0   The 2017 i3 is BMW’s first full scale producti...                  BMW i3   \n",
       "1   The 2017 Chevrolet Bolt EV is a long-range all...       Chevrolet Bolt EV   \n",
       "2   The 2017 Fiat 500e is an all electric version ...               Fiat 500e   \n",
       "3   The 2017 Focus Electric is based on Ford’s nex...     Ford Focus Electric   \n",
       "4   The Clarity Electric is an all-electric four-d...  Honda Clarity Electric   \n",
       "5   The 2017 Hyundai Ioniq Electric is an all-elec...  Hyundai Ioniq Electric   \n",
       "6   The 2018 Soul EV is an all electric version of...             Kia Soul EV   \n",
       "7   The 2017 Mercedes B-Class B250e Electric Drive...          Mercedes B250e   \n",
       "8   The all-new 2nd generation 2018 Nissan LEAF is...             Nissan LEAF   \n",
       "9   Street-legal version of the Swiss Quantya Trac...          Quantya Strada   \n",
       "10  The 2017 Smart ED is an OEM conversion of the ...                Smart ED   \n",
       "11  The Model 3 is an all-electric four door luxur...           Tesla Model 3   \n",
       "12  The 2017 Model S is a 4-door “fastback” sedan ...           Tesla Model S   \n",
       "13  The 2017 Tesla Model X is an all-electric all-...           Tesla Model X   \n",
       "14  The 2017 Victory Empulse TT has a 6 speed tran...      Victory Empulse TT   \n",
       "15  The 2017 Volkswagen e-Golf, formerly “Golf Blu...       Volkswagen e-Golf   \n",
       "\n",
       "                                               price  \\\n",
       "0                                            $41,350   \n",
       "1                                            $37,495   \n",
       "2                                            $32,500   \n",
       "3                                            $29,170   \n",
       "4                                            $37,495   \n",
       "5                                            $29,500   \n",
       "6                                            $33,700   \n",
       "7                                            $41,450   \n",
       "8                                            $29,900   \n",
       "9                                            $10,700   \n",
       "10                                           $25,000   \n",
       "11   $35,000\\t\\t\\t\\t                       - $57,000   \n",
       "12   $66,000\\t\\t\\t\\t                       - $89,500   \n",
       "13   $74,000\\t\\t\\t\\t                       - $95,500   \n",
       "14                                           $16,995   \n",
       "15                                           $36,265   \n",
       "\n",
       "                                   range  \\\n",
       "0                                 114 mi   \n",
       "1                                 238 mi   \n",
       "2                                  87 mi   \n",
       "3                                 115 mi   \n",
       "4                                  89 mi   \n",
       "5                                 124 mi   \n",
       "6                                 111 mi   \n",
       "7                                  87 mi   \n",
       "8                                 151 mi   \n",
       "9                                  30 mi   \n",
       "10                                 68 mi   \n",
       "11   220 mi\\t\\t\\t\\t\\t\\t\\t\\t\\t\\t - 310 mi   \n",
       "12   210 mi\\t\\t\\t\\t\\t\\t\\t\\t\\t\\t - 335 mi   \n",
       "13   237 mi\\t\\t\\t\\t\\t\\t\\t\\t\\t\\t - 295 mi   \n",
       "14                                130 mi   \n",
       "15                                125 mi   \n",
       "\n",
       "                                                  url  \n",
       "0   https://pluginamerica.org/plug-in-vehicle/bmw-i3/  \n",
       "1   https://pluginamerica.org/plug-in-vehicle/chev...  \n",
       "2   https://pluginamerica.org/plug-in-vehicle/fiat...  \n",
       "3   https://pluginamerica.org/plug-in-vehicle/ford...  \n",
       "4   https://pluginamerica.org/plug-in-vehicle/hond...  \n",
       "5   https://pluginamerica.org/plug-in-vehicle/hyun...  \n",
       "6   https://pluginamerica.org/plug-in-vehicle/kia-...  \n",
       "7   https://pluginamerica.org/plug-in-vehicle/merc...  \n",
       "8   https://pluginamerica.org/plug-in-vehicle/niss...  \n",
       "9   https://pluginamerica.org/plug-in-vehicle/quan...  \n",
       "10  https://pluginamerica.org/plug-in-vehicle/smar...  \n",
       "11  https://pluginamerica.org/plug-in-vehicle/tesl...  \n",
       "12  https://pluginamerica.org/plug-in-vehicle/tesl...  \n",
       "13  https://pluginamerica.org/plug-in-vehicle/tesl...  \n",
       "14  https://pluginamerica.org/plug-in-vehicle/vict...  \n",
       "15  https://pluginamerica.org/plug-in-vehicle/volk...  "
      ]
     },
     "execution_count": 21,
     "metadata": {},
     "output_type": "execute_result"
    }
   ],
   "source": [
    "eCars_df"
   ]
  },
  {
   "cell_type": "code",
   "execution_count": 24,
   "metadata": {},
   "outputs": [],
   "source": [
    "eCars_df.to_csv(\"eCars.csv\",encoding='utf-8',index=False)"
   ]
  },
  {
   "cell_type": "code",
   "execution_count": null,
   "metadata": {},
   "outputs": [],
   "source": []
  },
  {
   "cell_type": "code",
   "execution_count": null,
   "metadata": {},
   "outputs": [],
   "source": []
  },
  {
   "cell_type": "code",
   "execution_count": null,
   "metadata": {},
   "outputs": [],
   "source": [
    "##########################################################################################"
   ]
  },
  {
   "cell_type": "code",
   "execution_count": null,
   "metadata": {},
   "outputs": [],
   "source": [
    "import pymongo"
   ]
  },
  {
   "cell_type": "code",
   "execution_count": null,
   "metadata": {},
   "outputs": [],
   "source": []
  },
  {
   "cell_type": "code",
   "execution_count": null,
   "metadata": {},
   "outputs": [],
   "source": [
    "# Initialize PyMongo to work with MongoDBs\n",
    "conn = 'mongodb://localhost:27017'\n",
    "client = pymongo.MongoClient(conn)\n",
    "\n",
    "# Define database and collection\n",
    "db = client.car_db_1\n",
    "collection = db.items"
   ]
  },
  {
   "cell_type": "code",
   "execution_count": null,
   "metadata": {},
   "outputs": [],
   "source": []
  },
  {
   "cell_type": "code",
   "execution_count": null,
   "metadata": {},
   "outputs": [],
   "source": []
  },
  {
   "cell_type": "code",
   "execution_count": null,
   "metadata": {},
   "outputs": [],
   "source": [
    "post ={\n",
    "    'make/model':make_model_list,\n",
    "     'price':car_price_list,\n",
    "    'range':electric_range_list2,\n",
    "    'url':url_list,\n",
    "    'description':description_list1\n",
    "}\n",
    "collection.insert_one(post)"
   ]
  },
  {
   "cell_type": "code",
   "execution_count": null,
   "metadata": {},
   "outputs": [],
   "source": []
  },
  {
   "cell_type": "code",
   "execution_count": null,
   "metadata": {},
   "outputs": [],
   "source": [
    "listings = db.items.find()\n",
    "\n",
    "for listing in listings:\n",
    "    print(listing)\n"
   ]
  },
  {
   "cell_type": "code",
   "execution_count": null,
   "metadata": {},
   "outputs": [],
   "source": []
  },
  {
   "cell_type": "code",
   "execution_count": null,
   "metadata": {},
   "outputs": [],
   "source": [
    "################################# "
   ]
  },
  {
   "cell_type": "code",
   "execution_count": null,
   "metadata": {},
   "outputs": [],
   "source": [
    "# from flask import Flask, render_template, jsonify, redirect\n",
    "# from flask_pymongo import PyMongo"
   ]
  },
  {
   "cell_type": "code",
   "execution_count": null,
   "metadata": {},
   "outputs": [],
   "source": [
    "# app = Flask(__name__)\n",
    "\n",
    "# mongo = PyMongo(app)\n",
    "# @app.route(\"/\")\n",
    "# def index1():\n",
    "#     listings = car_db_1.db.listings.find_one()\n",
    "#     #return render_template(\"index.html\", listings=listings)\n",
    "#     return listings\n",
    "# if __name__ == \"__main__\":\n",
    "#     app.run(debug=False)"
   ]
  },
  {
   "cell_type": "code",
   "execution_count": null,
   "metadata": {},
   "outputs": [],
   "source": []
  }
 ],
 "metadata": {
  "kernelspec": {
   "display_name": "Python [conda env:pythondata]",
   "language": "python",
   "name": "conda-env-pythondata-py"
  },
  "language_info": {
   "codemirror_mode": {
    "name": "ipython",
    "version": 3
   },
   "file_extension": ".py",
   "mimetype": "text/x-python",
   "name": "python",
   "nbconvert_exporter": "python",
   "pygments_lexer": "ipython3",
   "version": "3.6.4"
  }
 },
 "nbformat": 4,
 "nbformat_minor": 2
}
