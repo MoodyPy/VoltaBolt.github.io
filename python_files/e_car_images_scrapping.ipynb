{
 "cells": [
  {
   "cell_type": "code",
   "execution_count": 1,
   "metadata": {},
   "outputs": [],
   "source": [
    "from selenium import webdriver\n",
    "from bs4 import BeautifulSoup\n",
    "import requests"
   ]
  },
  {
   "cell_type": "code",
   "execution_count": 61,
   "metadata": {},
   "outputs": [],
   "source": [
    "import csv\n",
    "import os"
   ]
  },
  {
   "cell_type": "code",
   "execution_count": null,
   "metadata": {},
   "outputs": [],
   "source": []
  },
  {
   "cell_type": "code",
   "execution_count": null,
   "metadata": {},
   "outputs": [],
   "source": [
    "#\"https://www.cstatic-images.com/car-pictures/xl/usc70hyc331c021001.png\""
   ]
  },
  {
   "cell_type": "code",
   "execution_count": 2,
   "metadata": {},
   "outputs": [],
   "source": [
    "#driver= webdriver.Chrome('C:/Users/renuka/Desktop/chromedriver.exe')\n",
    "image_url_list = []\n",
    "image_scraping_list=[\"http://st.motortrend.ca/uploads/sites/10/2016/05/2016-bmw-i3-mega-hatchback-angular-front.png\",\n",
    "      \"https://images.hgmsites.net/lrg/2017-chevrolet-bolt-ev-5dr-hb-lt-angular-front-exterior-view_100603023_l.jpg\",\n",
    "     \"https://images.hgmsites.net/lrg/2018-ford-focus-electric_100604706_l.jpg\",\n",
    "     \"https://static.cargurus.com/images/site/2016/04/14/11/53/2017_hyundai_ioniq-pic-9123370586618505936-640x480.jpeg\",\n",
    "     \"https://images.hgmsites.net/lrg/2018-kia-soul-auto-angular-front-exterior-view_100631301_l.jpg\",\n",
    "    \"https://images.hgmsites.net/lrg/2017-nissan-leaf-sl-hatchback-angular-front-exterior-view_100610032_l.jpg\",\n",
    "    \"https://pluginamerica.org/wp-content/uploads/2017/08/Screen-Shot-2017-08-15-at-4.31.42-PM-300x116.png\",\n",
    "    \"https://images.hgmsites.net/lrg/2015-tesla-model-s-4-door-sedan-awd-85d-angular-front-exterior-view_100504725_l.jpg\",\n",
    "     \"https://images.hgmsites.net/lrg/2017-tesla-model-x-75d-awd-angular-front-exterior-view_100601789_l.jpg\",\n",
    "    \"https://images.hgmsites.net/lrg/2017-volkswagen-e-golf-4-door-se-angular-front-exterior-view_100635387_l.jpg\",\n",
    "    \"https://static.cargurus.com/images/article/2017/05/19/16/33/2017_honda_clarity_electric_preview_overview-pic-27483076314510892-640x480.jpeg\",\n",
    "    \"https://pluginamerica.org/wp-content/uploads/2016/06/2015-B-CLASS-EV-GALLERY-001-GOE-D-300x168@2x.jpg\"]  \n",
    "\n",
    "for i in image_scraping_list[0:12]:\n",
    "    driver= webdriver.Chrome('C:/Users/renuka/Desktop/chromedriver.exe')\n",
    "    driver.get(i)\n",
    "    img_scrape = BeautifulSoup(driver.page_source,\"lxml\")\n",
    "    car_image = img_scrape.find_all(\"img\")\n",
    "    for item in car_image:\n",
    "        carImage_url = item.attrs['src']\n",
    "        image_url_list.append(carImage_url)\n",
    "        \n",
    "    #print(img_scrape)\n",
    "    driver.quit()\n",
    "\n"
   ]
  },
  {
   "cell_type": "code",
   "execution_count": 3,
   "metadata": {},
   "outputs": [
    {
     "data": {
      "text/plain": [
       "12"
      ]
     },
     "execution_count": 3,
     "metadata": {},
     "output_type": "execute_result"
    }
   ],
   "source": [
    "len(image_url_list)"
   ]
  },
  {
   "cell_type": "code",
   "execution_count": 73,
   "metadata": {},
   "outputs": [],
   "source": [
    "def WriteDictToCSV(csv_file,csv_columns,carImages_dict):\n",
    "    with open(csv_file, 'w') as csvfile:\n",
    "            writer = csv.DictWriter(csvfile,fieldnames=csv_columns)\n",
    "            writer.writeheader()\n",
    "            for data in carImages_dict:\n",
    "                writer.writerow(data)\n",
    "    #except IOError as (errno, strerror):\n",
    "            #print(\"I/O error({0}): {1}\".format(errno, strerror))    \n",
    "    return\n",
    "csv_columns = ['Model',\"url\"]\n",
    "for i in image_url_list:\n",
    "    carImages_dict=[{\"Model\":'BMW',\"url\":image_url_list[0]},\n",
    "                    {\"Model\":\"ChevyBolt\",\"url\":image_url_list[1]},\n",
    "                    {\"Model\":\"FordFocus\",\"url\":image_url_list[2]},\n",
    "                    {\"Model\":\"HyundaiIoniq\",\"url\":image_url_list[3]},\n",
    "                    {\"Model\":\"Kia\",\"url\":image_url_list[4]},\n",
    "                    {\"Model\":\"Nissan\",\"url\":image_url_list[5]},\n",
    "                    {\"Model\":\"TeslaModel3\",\"url\":image_url_list[6]},\n",
    "                    {\"Model\":\"TeslaModels\",\"url\":image_url_list[7]},\n",
    "                    {\"Model\":\"TeslaModelx\",\"url\":image_url_list[8]},\n",
    "                    {\"Model\":\"VW-e-Golf\",\"url\":image_url_list[9]},\n",
    "                    {\"Model\":\"HondaClarity\",\"url\":image_url_list[10]},\n",
    "                    {\"Model\":\"Mercedes B250e\",\"url\":image_url_list[11]}]\n",
    "    \n",
    "currentPath = os.getcwd()\n",
    "csv_file = currentPath + \"/csv/imagesUrl.csv\"\n",
    "\n",
    "WriteDictToCSV(csv_file,csv_columns,carImages_dict)\n"
   ]
  },
  {
   "cell_type": "code",
   "execution_count": 6,
   "metadata": {},
   "outputs": [
    {
     "data": {
      "text/plain": [
       "12"
      ]
     },
     "execution_count": 6,
     "metadata": {},
     "output_type": "execute_result"
    }
   ],
   "source": [
    "len(carImages_dict)"
   ]
  },
  {
   "cell_type": "code",
   "execution_count": null,
   "metadata": {},
   "outputs": [],
   "source": []
  }
 ],
 "metadata": {
  "kernelspec": {
   "display_name": "Python [conda env:pythondata]",
   "language": "python",
   "name": "conda-env-pythondata-py"
  },
  "language_info": {
   "codemirror_mode": {
    "name": "ipython",
    "version": 3
   },
   "file_extension": ".py",
   "mimetype": "text/x-python",
   "name": "python",
   "nbconvert_exporter": "python",
   "pygments_lexer": "ipython3",
   "version": "3.6.4"
  }
 },
 "nbformat": 4,
 "nbformat_minor": 2
}
