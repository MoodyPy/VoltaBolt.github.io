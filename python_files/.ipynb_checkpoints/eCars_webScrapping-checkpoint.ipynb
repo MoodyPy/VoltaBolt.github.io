{
 "cells": [
  {
   "cell_type": "code",
   "execution_count": 2,
   "metadata": {},
   "outputs": [],
   "source": [
    "from selenium import webdriver\n",
    "from bs4 import BeautifulSoup\n",
    "import requests"
   ]
  },
  {
   "cell_type": "code",
   "execution_count": null,
   "metadata": {},
   "outputs": [],
   "source": [
    "driver= webdriver.Chrome('C:/Users/renuka/Desktop/chromedriver.exe')"
   ]
  },
  {
   "cell_type": "code",
   "execution_count": null,
   "metadata": {},
   "outputs": [],
   "source": [
    "driver.get(\"http://www.chevrolet.com/electric/volt-plug-in-hybrid\")\n",
    "#driver.get(\"https://automobiles.honda.com/accord\")\n",
    "#response = requests.get()\n",
    "#created a soup object \n",
    "soup = BeautifulSoup(driver.page_source,\"lxml\")\n",
    "driver.quit()\n"
   ]
  },
  {
   "cell_type": "code",
   "execution_count": null,
   "metadata": {},
   "outputs": [],
   "source": [
    "soup.title.text"
   ]
  },
  {
   "cell_type": "code",
   "execution_count": null,
   "metadata": {},
   "outputs": [],
   "source": []
  },
  {
   "cell_type": "code",
   "execution_count": null,
   "metadata": {},
   "outputs": [],
   "source": [
    "header_text = soup.select(\".q-display1.q-invert \")[0].text.strip()\n",
    "header_text"
   ]
  },
  {
   "cell_type": "code",
   "execution_count": null,
   "metadata": {},
   "outputs": [],
   "source": []
  },
  {
   "cell_type": "code",
   "execution_count": null,
   "metadata": {},
   "outputs": [],
   "source": [
    "text1 = soup.select(\".q-text.q-body1\")[0].text\n",
    "text1"
   ]
  },
  {
   "cell_type": "code",
   "execution_count": null,
   "metadata": {},
   "outputs": [],
   "source": [
    "import re"
   ]
  },
  {
   "cell_type": "code",
   "execution_count": null,
   "metadata": {},
   "outputs": [],
   "source": [
    "for line in text1:\n",
    "    x = re.findall('.*([a-zA-Z]+\\s[0-9][0-9],\\s[0-9][0-9][0-9][0-9]).*', line)\n",
    "    if(len(x)!=0):\n",
    "        print(x)"
   ]
  },
  {
   "cell_type": "code",
   "execution_count": null,
   "metadata": {},
   "outputs": [],
   "source": [
    "#for s in text1.split():\n",
    "#    if s.isdigit():\n",
    "#        s1 = s\n",
    "#        print(s1[1])\n",
    "    "
   ]
  },
  {
   "cell_type": "code",
   "execution_count": null,
   "metadata": {},
   "outputs": [],
   "source": []
  },
  {
   "cell_type": "code",
   "execution_count": null,
   "metadata": {},
   "outputs": [],
   "source": [
    "milage = re.findall(r'\\b\\d+\\b',text1)[3]"
   ]
  },
  {
   "cell_type": "code",
   "execution_count": null,
   "metadata": {},
   "outputs": [],
   "source": []
  },
  {
   "cell_type": "code",
   "execution_count": null,
   "metadata": {},
   "outputs": [],
   "source": [
    "price = soup.select(\".q-descriptive1\")[0].text.strip()\n",
    "price"
   ]
  },
  {
   "cell_type": "code",
   "execution_count": null,
   "metadata": {},
   "outputs": [],
   "source": [
    "price_only = re.findall(r\"(?:[\\£\\$\\€]{1}[,\\d]+.?\\d)\",price)"
   ]
  },
  {
   "cell_type": "code",
   "execution_count": null,
   "metadata": {},
   "outputs": [],
   "source": []
  },
  {
   "cell_type": "code",
   "execution_count": null,
   "metadata": {},
   "outputs": [],
   "source": [
    "test_list = [header_text,price_only,milage]"
   ]
  },
  {
   "cell_type": "code",
   "execution_count": null,
   "metadata": {},
   "outputs": [],
   "source": [
    "test_list"
   ]
  },
  {
   "cell_type": "code",
   "execution_count": null,
   "metadata": {},
   "outputs": [],
   "source": []
  },
  {
   "cell_type": "code",
   "execution_count": null,
   "metadata": {},
   "outputs": [],
   "source": []
  },
  {
   "cell_type": "code",
   "execution_count": null,
   "metadata": {},
   "outputs": [],
   "source": [
    "driver= webdriver.Chrome('C:/Users/renuka/Desktop/chromedriver.exe')"
   ]
  },
  {
   "cell_type": "code",
   "execution_count": null,
   "metadata": {},
   "outputs": [],
   "source": []
  },
  {
   "cell_type": "code",
   "execution_count": null,
   "metadata": {},
   "outputs": [],
   "source": []
  },
  {
   "cell_type": "code",
   "execution_count": null,
   "metadata": {},
   "outputs": [],
   "source": [
    "driver.get(\"http://www.chevrolet.com/electric/bolt-ev-electric-car\")\n",
    "soup1 = BeautifulSoup(driver.page_source,\"lxml\")\n",
    "driver.quit()"
   ]
  },
  {
   "cell_type": "code",
   "execution_count": null,
   "metadata": {},
   "outputs": [],
   "source": [
    "soup1.title.text"
   ]
  },
  {
   "cell_type": "code",
   "execution_count": null,
   "metadata": {},
   "outputs": [],
   "source": [
    "bolt_ev_text=soup1.select(\".q-display1.q-invert \")[0].text.strip()\n",
    "bolt_ev_text"
   ]
  },
  {
   "cell_type": "code",
   "execution_count": null,
   "metadata": {},
   "outputs": [],
   "source": []
  },
  {
   "cell_type": "code",
   "execution_count": null,
   "metadata": {},
   "outputs": [],
   "source": [
    "milage = soup1.select(\".q-text.q-body1\")[0].text\n",
    "milage"
   ]
  },
  {
   "cell_type": "code",
   "execution_count": null,
   "metadata": {},
   "outputs": [],
   "source": []
  },
  {
   "cell_type": "code",
   "execution_count": null,
   "metadata": {},
   "outputs": [],
   "source": [
    "re.findall(r'\\b\\d+\\b',milage)[0]"
   ]
  },
  {
   "cell_type": "code",
   "execution_count": null,
   "metadata": {},
   "outputs": [],
   "source": []
  },
  {
   "cell_type": "code",
   "execution_count": null,
   "metadata": {},
   "outputs": [],
   "source": [
    "price_Bolt = soup1.select(\".q-descriptive1 \")[0].text.strip()\n",
    "price_Bolt"
   ]
  },
  {
   "cell_type": "code",
   "execution_count": null,
   "metadata": {},
   "outputs": [],
   "source": [
    "re.findall(r\"(?:[\\£\\$\\€]{1}[,\\d]+.?\\d)\",price_Bolt)"
   ]
  },
  {
   "cell_type": "code",
   "execution_count": null,
   "metadata": {},
   "outputs": [],
   "source": [
    "color_tag =soup1.select(\".q-colorizer-chip\")[0]\n",
    "color_tag\n"
   ]
  },
  {
   "cell_type": "code",
   "execution_count": null,
   "metadata": {},
   "outputs": [],
   "source": [
    "color_tag =soup1.select(\".q-colorizer-chip\")\n",
    "#color_tag"
   ]
  },
  {
   "cell_type": "code",
   "execution_count": 7,
   "metadata": {},
   "outputs": [],
   "source": [
    "driver= webdriver.Chrome('C:/Users/renuka/Desktop/chromedriver.exe')"
   ]
  },
  {
   "cell_type": "code",
   "execution_count": null,
   "metadata": {},
   "outputs": [],
   "source": []
  },
  {
   "cell_type": "code",
   "execution_count": 11,
   "metadata": {},
   "outputs": [],
   "source": [
    "import pandas as pd"
   ]
  },
  {
   "cell_type": "code",
   "execution_count": null,
   "metadata": {},
   "outputs": [],
   "source": []
  },
  {
   "cell_type": "code",
   "execution_count": null,
   "metadata": {},
   "outputs": [],
   "source": [
    "driver.get(\"https://en.wikipedia.org/wiki/List_of_electric_cars_currently_available\")\n",
    "soup1 = BeautifulSoup(driver.page_source,\"lxml\")\n",
    "driver.quit()"
   ]
  },
  {
   "cell_type": "code",
   "execution_count": null,
   "metadata": {},
   "outputs": [],
   "source": [
    "tables = pd.read_html('https://en.wikipedia.org/wiki/List_of_electric_cars_currently_available')\n",
    "#tables"
   ]
  },
  {
   "cell_type": "code",
   "execution_count": null,
   "metadata": {},
   "outputs": [],
   "source": []
  },
  {
   "cell_type": "code",
   "execution_count": null,
   "metadata": {},
   "outputs": [],
   "source": [
    "df = tables[0]\n",
    "df.columns = [\"Col1\",\"Col2\"]\n",
    "df"
   ]
  },
  {
   "cell_type": "code",
   "execution_count": null,
   "metadata": {},
   "outputs": [],
   "source": [
    "driver= webdriver.Chrome('C:/Users/renuka/Desktop/chromedriver.exe')"
   ]
  },
  {
   "cell_type": "code",
   "execution_count": null,
   "metadata": {},
   "outputs": [],
   "source": []
  },
  {
   "cell_type": "code",
   "execution_count": null,
   "metadata": {},
   "outputs": [],
   "source": []
  },
  {
   "cell_type": "code",
   "execution_count": null,
   "metadata": {},
   "outputs": [],
   "source": []
  },
  {
   "cell_type": "code",
   "execution_count": null,
   "metadata": {},
   "outputs": [],
   "source": []
  },
  {
   "cell_type": "code",
   "execution_count": 8,
   "metadata": {},
   "outputs": [],
   "source": [
    "driver.get(\"https://pluginamerica.org/vehicles/?fwp_type=ev\")\n",
    "soup1 = BeautifulSoup(driver.page_source,\"lxml\")\n",
    "driver.quit()"
   ]
  },
  {
   "cell_type": "code",
   "execution_count": 10,
   "metadata": {},
   "outputs": [],
   "source": [
    "data = soup1.select(\"#cars_table\")\n",
    "#data"
   ]
  },
  {
   "cell_type": "code",
   "execution_count": 169,
   "metadata": {},
   "outputs": [],
   "source": [
    "make_model_list = []\n",
    "for i in range(16):\n",
    "    name_of_car = soup1.select(\".make_model.sorting_1\")[i].text\n",
    "    make_model_list.append(name_of_car)"
   ]
  },
  {
   "cell_type": "code",
   "execution_count": 178,
   "metadata": {},
   "outputs": [
    {
     "data": {
      "text/plain": [
       "16"
      ]
     },
     "execution_count": 178,
     "metadata": {},
     "output_type": "execute_result"
    }
   ],
   "source": [
    "len(make_model_list)"
   ]
  },
  {
   "cell_type": "code",
   "execution_count": 180,
   "metadata": {},
   "outputs": [],
   "source": [
    "#make_model_list"
   ]
  },
  {
   "cell_type": "code",
   "execution_count": null,
   "metadata": {},
   "outputs": [],
   "source": []
  },
  {
   "cell_type": "code",
   "execution_count": 186,
   "metadata": {},
   "outputs": [],
   "source": [
    "url =[]\n",
    "for i in range(17):\n",
    "    url.append(soup1.select(\".car_img\")[i])"
   ]
  },
  {
   "cell_type": "code",
   "execution_count": null,
   "metadata": {},
   "outputs": [],
   "source": []
  },
  {
   "cell_type": "code",
   "execution_count": null,
   "metadata": {},
   "outputs": [],
   "source": []
  },
  {
   "cell_type": "code",
   "execution_count": 187,
   "metadata": {},
   "outputs": [],
   "source": [
    "url_list = []\n",
    "for i in url:\n",
    "    a_tag = i.select(\"a\")\n",
    "    for item in a_tag:\n",
    "        web_url = item.attrs['href']\n",
    "        url_list.append(web_url)\n"
   ]
  },
  {
   "cell_type": "code",
   "execution_count": null,
   "metadata": {},
   "outputs": [],
   "source": []
  },
  {
   "cell_type": "code",
   "execution_count": 188,
   "metadata": {},
   "outputs": [
    {
     "data": {
      "text/plain": [
       "16"
      ]
     },
     "execution_count": 188,
     "metadata": {},
     "output_type": "execute_result"
    }
   ],
   "source": [
    "len(url_list)"
   ]
  },
  {
   "cell_type": "code",
   "execution_count": null,
   "metadata": {},
   "outputs": [],
   "source": []
  },
  {
   "cell_type": "code",
   "execution_count": null,
   "metadata": {},
   "outputs": [],
   "source": []
  },
  {
   "cell_type": "code",
   "execution_count": null,
   "metadata": {},
   "outputs": [],
   "source": []
  },
  {
   "cell_type": "code",
   "execution_count": 63,
   "metadata": {},
   "outputs": [],
   "source": [
    "#for k in range(16):\n",
    "#    a_tag = soup1.select(\"a\")\n",
    "#    for item in a_tag:\n",
    "#        web_url = item.attrs['href']\n",
    "#    print(web_url)\n",
    "#img_tag= soup1.select(\".car_img\")[k]"
   ]
  },
  {
   "cell_type": "code",
   "execution_count": 204,
   "metadata": {},
   "outputs": [],
   "source": [
    "description_list1 = []\n",
    "for car_des in range(17):\n",
    "    car_description = soup1.select(\".car_description\")[car_des].text.strip()\n",
    "    description_list1.append(car_description)"
   ]
  },
  {
   "cell_type": "code",
   "execution_count": null,
   "metadata": {},
   "outputs": [],
   "source": []
  },
  {
   "cell_type": "code",
   "execution_count": null,
   "metadata": {},
   "outputs": [],
   "source": []
  },
  {
   "cell_type": "code",
   "execution_count": null,
   "metadata": {},
   "outputs": [],
   "source": []
  },
  {
   "cell_type": "code",
   "execution_count": null,
   "metadata": {},
   "outputs": [],
   "source": []
  },
  {
   "cell_type": "code",
   "execution_count": 190,
   "metadata": {},
   "outputs": [
    {
     "data": {
      "text/plain": [
       "'Description'"
      ]
     },
     "execution_count": 190,
     "metadata": {},
     "output_type": "execute_result"
    }
   ],
   "source": [
    "description_list[0]\n"
   ]
  },
  {
   "cell_type": "code",
   "execution_count": null,
   "metadata": {},
   "outputs": [],
   "source": []
  },
  {
   "cell_type": "code",
   "execution_count": 206,
   "metadata": {},
   "outputs": [
    {
     "data": {
      "text/plain": [
       "'Description'"
      ]
     },
     "execution_count": 206,
     "metadata": {},
     "output_type": "execute_result"
    }
   ],
   "source": [
    "description_list1.pop(0)"
   ]
  },
  {
   "cell_type": "code",
   "execution_count": 208,
   "metadata": {},
   "outputs": [],
   "source": [
    "#description_list1"
   ]
  },
  {
   "cell_type": "code",
   "execution_count": null,
   "metadata": {},
   "outputs": [],
   "source": []
  },
  {
   "cell_type": "code",
   "execution_count": 209,
   "metadata": {},
   "outputs": [
    {
     "data": {
      "text/plain": [
       "16"
      ]
     },
     "execution_count": 209,
     "metadata": {},
     "output_type": "execute_result"
    }
   ],
   "source": [
    "len(description_list1)"
   ]
  },
  {
   "cell_type": "code",
   "execution_count": null,
   "metadata": {},
   "outputs": [],
   "source": []
  },
  {
   "cell_type": "code",
   "execution_count": null,
   "metadata": {},
   "outputs": [],
   "source": []
  },
  {
   "cell_type": "code",
   "execution_count": null,
   "metadata": {},
   "outputs": [],
   "source": []
  },
  {
   "cell_type": "code",
   "execution_count": null,
   "metadata": {},
   "outputs": [],
   "source": []
  },
  {
   "cell_type": "code",
   "execution_count": null,
   "metadata": {},
   "outputs": [],
   "source": []
  },
  {
   "cell_type": "code",
   "execution_count": null,
   "metadata": {},
   "outputs": [],
   "source": []
  },
  {
   "cell_type": "code",
   "execution_count": 194,
   "metadata": {},
   "outputs": [],
   "source": [
    "electric_range = []\n",
    "for e_range in range(17):\n",
    "    electric_range.append(soup1.select(\".car_range\")[e_range])\n",
    "    #text1 = soup1.select(\"p\")[e_range].text\n",
    "    #print(text1)\n",
    "            "
   ]
  },
  {
   "cell_type": "code",
   "execution_count": null,
   "metadata": {},
   "outputs": [],
   "source": []
  },
  {
   "cell_type": "code",
   "execution_count": 161,
   "metadata": {},
   "outputs": [],
   "source": [
    "#electric_range"
   ]
  },
  {
   "cell_type": "code",
   "execution_count": null,
   "metadata": {},
   "outputs": [],
   "source": []
  },
  {
   "cell_type": "code",
   "execution_count": null,
   "metadata": {},
   "outputs": [],
   "source": []
  },
  {
   "cell_type": "code",
   "execution_count": 195,
   "metadata": {},
   "outputs": [],
   "source": [
    "electric_range_list2 = []\n",
    "for i in electric_range:\n",
    "    if(i.p):\n",
    "        electric_range_list2.append(i.p.text)"
   ]
  },
  {
   "cell_type": "code",
   "execution_count": null,
   "metadata": {},
   "outputs": [],
   "source": []
  },
  {
   "cell_type": "code",
   "execution_count": null,
   "metadata": {},
   "outputs": [],
   "source": []
  },
  {
   "cell_type": "code",
   "execution_count": 196,
   "metadata": {},
   "outputs": [
    {
     "data": {
      "text/plain": [
       "16"
      ]
     },
     "execution_count": 196,
     "metadata": {},
     "output_type": "execute_result"
    }
   ],
   "source": [
    "len(electric_range_list2)"
   ]
  },
  {
   "cell_type": "code",
   "execution_count": null,
   "metadata": {},
   "outputs": [],
   "source": []
  },
  {
   "cell_type": "code",
   "execution_count": null,
   "metadata": {},
   "outputs": [],
   "source": []
  },
  {
   "cell_type": "code",
   "execution_count": 197,
   "metadata": {},
   "outputs": [],
   "source": [
    "price_list = []\n",
    "for price in range(17):\n",
    "    price_list.append(soup1.select(\".car_price\")[price])\n",
    "    "
   ]
  },
  {
   "cell_type": "code",
   "execution_count": null,
   "metadata": {},
   "outputs": [],
   "source": []
  },
  {
   "cell_type": "code",
   "execution_count": 198,
   "metadata": {},
   "outputs": [],
   "source": [
    "car_price_list =[]\n",
    "for i in price_list:\n",
    "    if(i.p):\n",
    "        car_price_list.append(i.p.text)"
   ]
  },
  {
   "cell_type": "code",
   "execution_count": null,
   "metadata": {},
   "outputs": [],
   "source": []
  },
  {
   "cell_type": "code",
   "execution_count": 199,
   "metadata": {},
   "outputs": [
    {
     "data": {
      "text/plain": [
       "16"
      ]
     },
     "execution_count": 199,
     "metadata": {},
     "output_type": "execute_result"
    }
   ],
   "source": [
    "len(car_price_list)"
   ]
  },
  {
   "cell_type": "code",
   "execution_count": null,
   "metadata": {},
   "outputs": [],
   "source": []
  },
  {
   "cell_type": "code",
   "execution_count": 210,
   "metadata": {},
   "outputs": [],
   "source": [
    "eCars_df = pd.DataFrame({'make/model':make_model_list,\n",
    "                         'price':car_price_list,\n",
    "                         'range':electric_range_list2,\n",
    "                         'url':url_list,\n",
    "                         'description':description_list1})"
   ]
  },
  {
   "cell_type": "code",
   "execution_count": null,
   "metadata": {},
   "outputs": [],
   "source": []
  },
  {
   "cell_type": "code",
   "execution_count": 211,
   "metadata": {},
   "outputs": [
    {
     "data": {
      "text/html": [
       "<div>\n",
       "<style scoped>\n",
       "    .dataframe tbody tr th:only-of-type {\n",
       "        vertical-align: middle;\n",
       "    }\n",
       "\n",
       "    .dataframe tbody tr th {\n",
       "        vertical-align: top;\n",
       "    }\n",
       "\n",
       "    .dataframe thead th {\n",
       "        text-align: right;\n",
       "    }\n",
       "</style>\n",
       "<table border=\"1\" class=\"dataframe\">\n",
       "  <thead>\n",
       "    <tr style=\"text-align: right;\">\n",
       "      <th></th>\n",
       "      <th>description</th>\n",
       "      <th>make/model</th>\n",
       "      <th>price</th>\n",
       "      <th>range</th>\n",
       "      <th>url</th>\n",
       "    </tr>\n",
       "  </thead>\n",
       "  <tbody>\n",
       "    <tr>\n",
       "      <th>0</th>\n",
       "      <td>The 2017 i3 is BMW’s first full scale producti...</td>\n",
       "      <td>BMW i3</td>\n",
       "      <td>$41,350</td>\n",
       "      <td>114 mi</td>\n",
       "      <td>https://pluginamerica.org/plug-in-vehicle/bmw-i3/</td>\n",
       "    </tr>\n",
       "    <tr>\n",
       "      <th>1</th>\n",
       "      <td>The 2017 Chevrolet Bolt EV is a long-range all...</td>\n",
       "      <td>Chevrolet Bolt EV</td>\n",
       "      <td>$37,495</td>\n",
       "      <td>238 mi</td>\n",
       "      <td>https://pluginamerica.org/plug-in-vehicle/chev...</td>\n",
       "    </tr>\n",
       "    <tr>\n",
       "      <th>2</th>\n",
       "      <td>The 2017 Fiat 500e is an all electric version ...</td>\n",
       "      <td>Fiat 500e</td>\n",
       "      <td>$32,500</td>\n",
       "      <td>87 mi</td>\n",
       "      <td>https://pluginamerica.org/plug-in-vehicle/fiat...</td>\n",
       "    </tr>\n",
       "    <tr>\n",
       "      <th>3</th>\n",
       "      <td>The 2017 Focus Electric is based on Ford’s nex...</td>\n",
       "      <td>Ford Focus Electric</td>\n",
       "      <td>$29,170</td>\n",
       "      <td>115 mi</td>\n",
       "      <td>https://pluginamerica.org/plug-in-vehicle/ford...</td>\n",
       "    </tr>\n",
       "    <tr>\n",
       "      <th>4</th>\n",
       "      <td>The Clarity Electric is an all-electric four-d...</td>\n",
       "      <td>Honda Clarity Electric</td>\n",
       "      <td>$37,495</td>\n",
       "      <td>89 mi</td>\n",
       "      <td>https://pluginamerica.org/plug-in-vehicle/hond...</td>\n",
       "    </tr>\n",
       "    <tr>\n",
       "      <th>5</th>\n",
       "      <td>The 2017 Hyundai Ioniq Electric is an all-elec...</td>\n",
       "      <td>Hyundai Ioniq Electric</td>\n",
       "      <td>$29,500</td>\n",
       "      <td>124 mi</td>\n",
       "      <td>https://pluginamerica.org/plug-in-vehicle/hyun...</td>\n",
       "    </tr>\n",
       "    <tr>\n",
       "      <th>6</th>\n",
       "      <td>The 2018 Soul EV is an all electric version of...</td>\n",
       "      <td>Kia Soul EV</td>\n",
       "      <td>$33,700</td>\n",
       "      <td>111 mi</td>\n",
       "      <td>https://pluginamerica.org/plug-in-vehicle/kia-...</td>\n",
       "    </tr>\n",
       "    <tr>\n",
       "      <th>7</th>\n",
       "      <td>The 2017 Mercedes B-Class B250e Electric Drive...</td>\n",
       "      <td>Mercedes B250e</td>\n",
       "      <td>$41,450</td>\n",
       "      <td>87 mi</td>\n",
       "      <td>https://pluginamerica.org/plug-in-vehicle/merc...</td>\n",
       "    </tr>\n",
       "    <tr>\n",
       "      <th>8</th>\n",
       "      <td>The all-new 2nd generation 2018 Nissan LEAF is...</td>\n",
       "      <td>Nissan LEAF</td>\n",
       "      <td>$29,900</td>\n",
       "      <td>151 mi</td>\n",
       "      <td>https://pluginamerica.org/plug-in-vehicle/niss...</td>\n",
       "    </tr>\n",
       "    <tr>\n",
       "      <th>9</th>\n",
       "      <td>Street-legal version of the Swiss Quantya Trac...</td>\n",
       "      <td>Quantya Strada</td>\n",
       "      <td>$10,700</td>\n",
       "      <td>30 mi</td>\n",
       "      <td>https://pluginamerica.org/plug-in-vehicle/quan...</td>\n",
       "    </tr>\n",
       "    <tr>\n",
       "      <th>10</th>\n",
       "      <td>The 2017 Smart ED is an OEM conversion of the ...</td>\n",
       "      <td>Smart ED</td>\n",
       "      <td>$25,000</td>\n",
       "      <td>68 mi</td>\n",
       "      <td>https://pluginamerica.org/plug-in-vehicle/smar...</td>\n",
       "    </tr>\n",
       "    <tr>\n",
       "      <th>11</th>\n",
       "      <td>The Model 3 is an all-electric four door luxur...</td>\n",
       "      <td>Tesla Model 3</td>\n",
       "      <td>$35,000\\t\\t\\t\\t                       - $57,000</td>\n",
       "      <td>220 mi\\t\\t\\t\\t\\t\\t\\t\\t\\t\\t - 310 mi</td>\n",
       "      <td>https://pluginamerica.org/plug-in-vehicle/tesl...</td>\n",
       "    </tr>\n",
       "    <tr>\n",
       "      <th>12</th>\n",
       "      <td>The 2017 Model S is a 4-door “fastback” sedan ...</td>\n",
       "      <td>Tesla Model S</td>\n",
       "      <td>$66,000\\t\\t\\t\\t                       - $89,500</td>\n",
       "      <td>210 mi\\t\\t\\t\\t\\t\\t\\t\\t\\t\\t - 335 mi</td>\n",
       "      <td>https://pluginamerica.org/plug-in-vehicle/tesl...</td>\n",
       "    </tr>\n",
       "    <tr>\n",
       "      <th>13</th>\n",
       "      <td>The 2017 Tesla Model X is an all-electric all-...</td>\n",
       "      <td>Tesla Model X</td>\n",
       "      <td>$74,000\\t\\t\\t\\t                       - $95,500</td>\n",
       "      <td>237 mi\\t\\t\\t\\t\\t\\t\\t\\t\\t\\t - 295 mi</td>\n",
       "      <td>https://pluginamerica.org/plug-in-vehicle/tesl...</td>\n",
       "    </tr>\n",
       "    <tr>\n",
       "      <th>14</th>\n",
       "      <td>The 2017 Victory Empulse TT has a 6 speed tran...</td>\n",
       "      <td>Victory Empulse TT</td>\n",
       "      <td>$16,995</td>\n",
       "      <td>130 mi</td>\n",
       "      <td>https://pluginamerica.org/plug-in-vehicle/vict...</td>\n",
       "    </tr>\n",
       "    <tr>\n",
       "      <th>15</th>\n",
       "      <td>The 2017 Volkswagen e-Golf, formerly “Golf Blu...</td>\n",
       "      <td>Volkswagen e-Golf</td>\n",
       "      <td>$36,265</td>\n",
       "      <td>125 mi</td>\n",
       "      <td>https://pluginamerica.org/plug-in-vehicle/volk...</td>\n",
       "    </tr>\n",
       "  </tbody>\n",
       "</table>\n",
       "</div>"
      ],
      "text/plain": [
       "                                          description              make/model  \\\n",
       "0   The 2017 i3 is BMW’s first full scale producti...                  BMW i3   \n",
       "1   The 2017 Chevrolet Bolt EV is a long-range all...       Chevrolet Bolt EV   \n",
       "2   The 2017 Fiat 500e is an all electric version ...               Fiat 500e   \n",
       "3   The 2017 Focus Electric is based on Ford’s nex...     Ford Focus Electric   \n",
       "4   The Clarity Electric is an all-electric four-d...  Honda Clarity Electric   \n",
       "5   The 2017 Hyundai Ioniq Electric is an all-elec...  Hyundai Ioniq Electric   \n",
       "6   The 2018 Soul EV is an all electric version of...             Kia Soul EV   \n",
       "7   The 2017 Mercedes B-Class B250e Electric Drive...          Mercedes B250e   \n",
       "8   The all-new 2nd generation 2018 Nissan LEAF is...             Nissan LEAF   \n",
       "9   Street-legal version of the Swiss Quantya Trac...          Quantya Strada   \n",
       "10  The 2017 Smart ED is an OEM conversion of the ...                Smart ED   \n",
       "11  The Model 3 is an all-electric four door luxur...           Tesla Model 3   \n",
       "12  The 2017 Model S is a 4-door “fastback” sedan ...           Tesla Model S   \n",
       "13  The 2017 Tesla Model X is an all-electric all-...           Tesla Model X   \n",
       "14  The 2017 Victory Empulse TT has a 6 speed tran...      Victory Empulse TT   \n",
       "15  The 2017 Volkswagen e-Golf, formerly “Golf Blu...       Volkswagen e-Golf   \n",
       "\n",
       "                                               price  \\\n",
       "0                                            $41,350   \n",
       "1                                            $37,495   \n",
       "2                                            $32,500   \n",
       "3                                            $29,170   \n",
       "4                                            $37,495   \n",
       "5                                            $29,500   \n",
       "6                                            $33,700   \n",
       "7                                            $41,450   \n",
       "8                                            $29,900   \n",
       "9                                            $10,700   \n",
       "10                                           $25,000   \n",
       "11   $35,000\\t\\t\\t\\t                       - $57,000   \n",
       "12   $66,000\\t\\t\\t\\t                       - $89,500   \n",
       "13   $74,000\\t\\t\\t\\t                       - $95,500   \n",
       "14                                           $16,995   \n",
       "15                                           $36,265   \n",
       "\n",
       "                                   range  \\\n",
       "0                                 114 mi   \n",
       "1                                 238 mi   \n",
       "2                                  87 mi   \n",
       "3                                 115 mi   \n",
       "4                                  89 mi   \n",
       "5                                 124 mi   \n",
       "6                                 111 mi   \n",
       "7                                  87 mi   \n",
       "8                                 151 mi   \n",
       "9                                  30 mi   \n",
       "10                                 68 mi   \n",
       "11   220 mi\\t\\t\\t\\t\\t\\t\\t\\t\\t\\t - 310 mi   \n",
       "12   210 mi\\t\\t\\t\\t\\t\\t\\t\\t\\t\\t - 335 mi   \n",
       "13   237 mi\\t\\t\\t\\t\\t\\t\\t\\t\\t\\t - 295 mi   \n",
       "14                                130 mi   \n",
       "15                                125 mi   \n",
       "\n",
       "                                                  url  \n",
       "0   https://pluginamerica.org/plug-in-vehicle/bmw-i3/  \n",
       "1   https://pluginamerica.org/plug-in-vehicle/chev...  \n",
       "2   https://pluginamerica.org/plug-in-vehicle/fiat...  \n",
       "3   https://pluginamerica.org/plug-in-vehicle/ford...  \n",
       "4   https://pluginamerica.org/plug-in-vehicle/hond...  \n",
       "5   https://pluginamerica.org/plug-in-vehicle/hyun...  \n",
       "6   https://pluginamerica.org/plug-in-vehicle/kia-...  \n",
       "7   https://pluginamerica.org/plug-in-vehicle/merc...  \n",
       "8   https://pluginamerica.org/plug-in-vehicle/niss...  \n",
       "9   https://pluginamerica.org/plug-in-vehicle/quan...  \n",
       "10  https://pluginamerica.org/plug-in-vehicle/smar...  \n",
       "11  https://pluginamerica.org/plug-in-vehicle/tesl...  \n",
       "12  https://pluginamerica.org/plug-in-vehicle/tesl...  \n",
       "13  https://pluginamerica.org/plug-in-vehicle/tesl...  \n",
       "14  https://pluginamerica.org/plug-in-vehicle/vict...  \n",
       "15  https://pluginamerica.org/plug-in-vehicle/volk...  "
      ]
     },
     "execution_count": 211,
     "metadata": {},
     "output_type": "execute_result"
    }
   ],
   "source": [
    "eCars_df"
   ]
  },
  {
   "cell_type": "code",
   "execution_count": null,
   "metadata": {},
   "outputs": [],
   "source": []
  },
  {
   "cell_type": "code",
   "execution_count": null,
   "metadata": {},
   "outputs": [],
   "source": []
  },
  {
   "cell_type": "code",
   "execution_count": null,
   "metadata": {},
   "outputs": [],
   "source": []
  },
  {
   "cell_type": "code",
   "execution_count": null,
   "metadata": {},
   "outputs": [],
   "source": []
  },
  {
   "cell_type": "code",
   "execution_count": null,
   "metadata": {},
   "outputs": [],
   "source": []
  },
  {
   "cell_type": "code",
   "execution_count": null,
   "metadata": {},
   "outputs": [],
   "source": []
  },
  {
   "cell_type": "code",
   "execution_count": null,
   "metadata": {},
   "outputs": [],
   "source": []
  },
  {
   "cell_type": "code",
   "execution_count": null,
   "metadata": {},
   "outputs": [],
   "source": []
  },
  {
   "cell_type": "code",
   "execution_count": null,
   "metadata": {},
   "outputs": [],
   "source": []
  },
  {
   "cell_type": "code",
   "execution_count": 106,
   "metadata": {},
   "outputs": [],
   "source": [
    "#electric_range_list"
   ]
  },
  {
   "cell_type": "code",
   "execution_count": 107,
   "metadata": {},
   "outputs": [],
   "source": [
    "# import re"
   ]
  },
  {
   "cell_type": "code",
   "execution_count": 120,
   "metadata": {},
   "outputs": [],
   "source": [
    "#for item in electric_range_list:\n",
    "#    result = re.sub(\"\\s+\",\" \",electric_range_list)\n",
    " #   print(result)"
   ]
  },
  {
   "cell_type": "code",
   "execution_count": 130,
   "metadata": {},
   "outputs": [],
   "source": [
    "#''.join(electric_range_list.split())"
   ]
  },
  {
   "cell_type": "code",
   "execution_count": 128,
   "metadata": {},
   "outputs": [],
   "source": []
  },
  {
   "cell_type": "code",
   "execution_count": 133,
   "metadata": {},
   "outputs": [
    {
     "name": "stdout",
     "output_type": "stream",
     "text": [
      "<map object at 0x000001FDCC44C9B0>\n"
     ]
    }
   ],
   "source": [
    "# test1 = map(lambda l: [x.split('\\t') for x in l], electric_range_list1)\n",
    "# print(test1)"
   ]
  },
  {
   "cell_type": "code",
   "execution_count": 134,
   "metadata": {},
   "outputs": [
    {
     "data": {
      "text/plain": [
       "<map at 0x1fdcc44c9b0>"
      ]
     },
     "execution_count": 134,
     "metadata": {},
     "output_type": "execute_result"
    }
   ],
   "source": [
    "test1"
   ]
  },
  {
   "cell_type": "code",
   "execution_count": 136,
   "metadata": {},
   "outputs": [],
   "source": [
    "#electric_range_list1\n",
    "# testlist=[]\n",
    "# for items in electric_range_list1:\n",
    "#     testlist.append(items.split('\\t'))"
   ]
  },
  {
   "cell_type": "code",
   "execution_count": 137,
   "metadata": {},
   "outputs": [],
   "source": []
  },
  {
   "cell_type": "code",
   "execution_count": null,
   "metadata": {},
   "outputs": [],
   "source": []
  },
  {
   "cell_type": "code",
   "execution_count": null,
   "metadata": {},
   "outputs": [],
   "source": []
  },
  {
   "cell_type": "code",
   "execution_count": null,
   "metadata": {},
   "outputs": [],
   "source": [
    "##########################################################################################"
   ]
  },
  {
   "cell_type": "code",
   "execution_count": 170,
   "metadata": {},
   "outputs": [],
   "source": [
    "import pymongo"
   ]
  },
  {
   "cell_type": "code",
   "execution_count": null,
   "metadata": {},
   "outputs": [],
   "source": []
  },
  {
   "cell_type": "code",
   "execution_count": 171,
   "metadata": {},
   "outputs": [],
   "source": [
    "# Initialize PyMongo to work with MongoDBs\n",
    "conn = 'mongodb://localhost:27017'\n",
    "client = pymongo.MongoClient(conn)\n",
    "\n",
    "# Define database and collection\n",
    "db = client.car_db\n",
    "collection = db.items"
   ]
  },
  {
   "cell_type": "code",
   "execution_count": null,
   "metadata": {},
   "outputs": [],
   "source": []
  },
  {
   "cell_type": "code",
   "execution_count": 172,
   "metadata": {},
   "outputs": [
    {
     "data": {
      "text/plain": [
       "<pymongo.results.InsertOneResult at 0x1fdcc50ac60>"
      ]
     },
     "execution_count": 172,
     "metadata": {},
     "output_type": "execute_result"
    }
   ],
   "source": [
    "post ={\n",
    "    'make/model':make_model_list,\n",
    "     'price':car_price_list,\n",
    "    'range':electric_range_list2,\n",
    "    'url':url_list,\n",
    "    'description':description_list\n",
    "}\n",
    "collection.insert_one(post)"
   ]
  },
  {
   "cell_type": "code",
   "execution_count": null,
   "metadata": {},
   "outputs": [],
   "source": []
  },
  {
   "cell_type": "code",
   "execution_count": 173,
   "metadata": {},
   "outputs": [
    {
     "name": "stdout",
     "output_type": "stream",
     "text": [
      "{'_id': ObjectId('5af6a2b339fa064f78080a09'), 'make/model': ['BMW i3', 'Chevrolet Bolt EV', 'Fiat 500e', 'Ford Focus Electric', 'Honda Clarity Electric', 'Hyundai Ioniq Electric', 'Kia Soul EV', 'Mercedes B250e', 'Nissan LEAF', 'Quantya Strada', 'Smart ED', 'Tesla Model 3', 'Tesla Model S', 'Tesla Model X', 'Victory Empulse TT', 'Volkswagen e-Golf'], 'price': [' $41,350', ' $37,495', ' $32,500', ' $29,170', ' $37,495', ' $29,500', ' $33,700', ' $41,450', ' $29,900', ' $10,700', ' $25,000', ' $35,000\\t\\t\\t\\t                       - $57,000', ' $66,000\\t\\t\\t\\t                       - $89,500', ' $74,000\\t\\t\\t\\t                       - $95,500', ' $16,995'], 'range': [' 114 mi', ' 238 mi', ' 87 mi', ' 115 mi', ' 89 mi', ' 124 mi', ' 111 mi', ' 87 mi', ' 151 mi', ' 30 mi', ' 68 mi', ' 220 mi\\t\\t\\t\\t\\t\\t\\t\\t\\t\\t - 310 mi', ' 210 mi\\t\\t\\t\\t\\t\\t\\t\\t\\t\\t - 335 mi', ' 237 mi\\t\\t\\t\\t\\t\\t\\t\\t\\t\\t - 295 mi', ' 130 mi'], 'url': ['https://pluginamerica.org/plug-in-vehicle/bmw-i3/', 'https://pluginamerica.org/plug-in-vehicle/chevrolet-bolt-ev/', 'https://pluginamerica.org/plug-in-vehicle/fiat-500e/', 'https://pluginamerica.org/plug-in-vehicle/ford-focus-electric/', 'https://pluginamerica.org/plug-in-vehicle/honda-clarity-electric/', 'https://pluginamerica.org/plug-in-vehicle/hyundai-ioniq-electric/', 'https://pluginamerica.org/plug-in-vehicle/kia-soul-ev/', 'https://pluginamerica.org/plug-in-vehicle/mercedes-b-class/', 'https://pluginamerica.org/plug-in-vehicle/nissan-leaf/', 'https://pluginamerica.org/plug-in-vehicle/quantya-strada/', 'https://pluginamerica.org/plug-in-vehicle/smart-ed/', 'https://pluginamerica.org/plug-in-vehicle/tesla-model-3/', 'https://pluginamerica.org/plug-in-vehicle/tesla-model-s/', 'https://pluginamerica.org/plug-in-vehicle/tesla-model-x/', 'https://pluginamerica.org/plug-in-vehicle/victory-empulse-tt/', 'https://pluginamerica.org/plug-in-vehicle/volkswagen-e-golf/', 'https://pluginamerica.org/plug-in-vehicle/zero-motorcycles-zero-dsdsr/', 'https://pluginamerica.org/plug-in-vehicle/zero-motorcycles-zero-fxfxs/', 'https://pluginamerica.org/plug-in-vehicle/zero-motorcycles-zero-ssr/'], 'description': ['The 2017 i3 is BMW’s first full scale production electric vehicle.  It is a 5-door hatchback built on a carbon fiber body and aluminum chassis.  The i3 is available with two battery sizes: a 22 kWh battery pack, and a new, larger 33 kWh battery pack.  Equipped with the 22…', 'The 2017 Chevrolet Bolt EV is a long-range all-electric compact crossover.  Powered by a 150kW (200 horsepower) electric motor that turns out 266 lb-ft of instant torque, the Chevy Bolt EV accelerates to 60 miles per hour in just 6.3 seconds.  The Bolt’s 60kWh lithium-ion battery gives the car an…', 'The 2017 Fiat 500e is an all electric version of the Fiat 500. The 500e is powered by an 83 kW electric motor and a 24 kWh lithium-ion battery pack, which take the car from 0 to 60 miles per hour in about nine seconds. On a 240V circuit, the…', 'The 2017 Focus Electric is based on Ford’s next generation Focus body. The vehicle is powered by 33.5 kWh of Li-ion batteries with active liquid cooling and has an all-electric EPA-certified range of 115 miles. The Focus Electric will communicate with the owners smart phone via MyFord Mobile. The inside…', 'The Clarity Electric is an all-electric four-door liftback sedan from Honda. The Clarity Electric is the all-electric version of the Clarity family of vehicles, which includes the Fuel-Cell Clarity (currently for lease) and the upcoming Clarity Plug-In Hybrid.  With a 25.5 kWh lithium-ion battery pack, the Clarity Electric achieves an…', 'The 2017 Hyundai Ioniq Electric is an all-electric four-door sedan featuring a 124-mile all-electric range and fast charging capability.  The Ioniq Electric comes standard with a 28 kWh battery pack and an 88kW (118 horsepower, 218 lb-ft torque) electric motor that propels the Ioniq from zero to sixty in 10…', 'The 2018 Soul EV is an all electric version of Kia’s popular Soul “UPV” (urban passenger vehicle). The Soul EV’s 27kWh air-cooled battery pack gives the car a range of 111 miles per charge. The Soul EV’s 81.4kW motor will bring the car from 0 to 60mph in just over…', 'The 2017 Mercedes B-Class B250e Electric Drive (formerly “Bluzero E-Cell” or “B-Class E-Cell”) is an all-electric hatchback based on Mercedes’ B-Class body style. The electric B-Class is powered by a 36 kWh battery pack and 132kW electric motor. Despite the large battery pack, the B-Class electric drive has a range…', 'The all-new 2nd generation 2018 Nissan LEAF is an all-electric five-seater hatchback.  The LEAF is powered by a 110kW (147 horsepower, 267 lb-ft instant torque) electric motor that can propel the LEAF from zero to sixty in 7.5 seconds.  The LEAF features a 40 kWh battery pack that gives it…', 'Street-legal version of the Swiss Quantya Track off-road dirt bike. Quantya’s LiPo Energy 40Ah 48V battery provides about 3 hours of riding time and a 2 hour recharge time. Powered by an 8.5kW axial gap DC brush electric motor. Now available in the US, EU, and Canada.', 'The 2017 Smart ED is an OEM conversion of the Smart Fortwo. Smart began life as Swatch car in 1998, and was first converted into EV form in 2006. The Smart ED is powered by a water-cooled 3-phase 55kW electric motor and 17.6kWh lithium ion battery pack manufactured by Deutsche…', 'The Model 3 is an all-electric four door luxury sedan from the all-electric automaker Tesla.  The Model 3 features either a 220-mile range from a 50 kW battery or 310-mile range from a 75 kW battery.  With a 258 horsepower rear-mounted motor, the Model 3 accelerates from zero to sixty…', 'The 2017 Model S is a 4-door “fastback” sedan built by California EV startup Tesla Motors. The Model S comes with four choices of battery capacity: the 60kWh pack rated for an EPA estimated range of 210 miles, the 75kWh pack for an EPA estimated range of 249 miles, the…', 'The 2017 Tesla Model X is an all-electric all-wheel drive crossover that seats 7 adults and features “falcon-wing” rear doors, which require little clearance on each side of the vehicle. The Model X is based on the Model S platform, and shares about 60% of the its parts with the…', 'The 2017 Victory Empulse TT has a 6 speed transmission as standard equipment. The Integrated Electric Transmission (IET™) – IET™ is a mechatronic propulsion unit that emulates the feeling and performance of a traditional internal combustion engine, with a specially developed electric motor, clutch and gear shift, that enables the…']}\n"
     ]
    }
   ],
   "source": [
    "listings = db.items.find()\n",
    "\n",
    "for listing in listings:\n",
    "    print(listing)\n"
   ]
  },
  {
   "cell_type": "code",
   "execution_count": null,
   "metadata": {},
   "outputs": [],
   "source": []
  },
  {
   "cell_type": "code",
   "execution_count": null,
   "metadata": {},
   "outputs": [],
   "source": [
    "#################################"
   ]
  },
  {
   "cell_type": "code",
   "execution_count": 140,
   "metadata": {},
   "outputs": [],
   "source": [
    "#electric_range_list"
   ]
  },
  {
   "cell_type": "code",
   "execution_count": null,
   "metadata": {},
   "outputs": [],
   "source": [
    " "
   ]
  },
  {
   "cell_type": "code",
   "execution_count": null,
   "metadata": {},
   "outputs": [],
   "source": []
  },
  {
   "cell_type": "code",
   "execution_count": null,
   "metadata": {},
   "outputs": [],
   "source": []
  },
  {
   "cell_type": "code",
   "execution_count": null,
   "metadata": {},
   "outputs": [],
   "source": []
  },
  {
   "cell_type": "code",
   "execution_count": null,
   "metadata": {},
   "outputs": [],
   "source": []
  },
  {
   "cell_type": "code",
   "execution_count": null,
   "metadata": {},
   "outputs": [],
   "source": []
  },
  {
   "cell_type": "code",
   "execution_count": null,
   "metadata": {},
   "outputs": [],
   "source": []
  },
  {
   "cell_type": "code",
   "execution_count": null,
   "metadata": {},
   "outputs": [],
   "source": []
  },
  {
   "cell_type": "code",
   "execution_count": null,
   "metadata": {},
   "outputs": [],
   "source": []
  },
  {
   "cell_type": "code",
   "execution_count": 112,
   "metadata": {},
   "outputs": [],
   "source": [
    "test1 = re.sub(r'(^[ \\t]+|[ \\t]+(?=:))', '', e_r_text)"
   ]
  },
  {
   "cell_type": "code",
   "execution_count": null,
   "metadata": {},
   "outputs": [],
   "source": []
  },
  {
   "cell_type": "code",
   "execution_count": 113,
   "metadata": {},
   "outputs": [
    {
     "name": "stdout",
     "output_type": "stream",
     "text": [
      "121 mi\t\t\t\t\t\t\t\t\t\t - 161 mi\n"
     ]
    }
   ],
   "source": [
    "print(test1)"
   ]
  },
  {
   "cell_type": "code",
   "execution_count": null,
   "metadata": {},
   "outputs": [],
   "source": []
  },
  {
   "cell_type": "code",
   "execution_count": 111,
   "metadata": {},
   "outputs": [],
   "source": [
    "#e_r_text"
   ]
  },
  {
   "cell_type": "code",
   "execution_count": null,
   "metadata": {},
   "outputs": [],
   "source": []
  },
  {
   "cell_type": "code",
   "execution_count": null,
   "metadata": {},
   "outputs": [],
   "source": []
  },
  {
   "cell_type": "code",
   "execution_count": null,
   "metadata": {},
   "outputs": [],
   "source": []
  },
  {
   "cell_type": "code",
   "execution_count": null,
   "metadata": {},
   "outputs": [],
   "source": []
  },
  {
   "cell_type": "code",
   "execution_count": null,
   "metadata": {},
   "outputs": [],
   "source": []
  },
  {
   "cell_type": "code",
   "execution_count": null,
   "metadata": {},
   "outputs": [],
   "source": []
  },
  {
   "cell_type": "code",
   "execution_count": null,
   "metadata": {},
   "outputs": [],
   "source": []
  },
  {
   "cell_type": "code",
   "execution_count": null,
   "metadata": {},
   "outputs": [],
   "source": []
  },
  {
   "cell_type": "code",
   "execution_count": null,
   "metadata": {},
   "outputs": [],
   "source": []
  },
  {
   "cell_type": "code",
   "execution_count": null,
   "metadata": {},
   "outputs": [],
   "source": []
  },
  {
   "cell_type": "code",
   "execution_count": null,
   "metadata": {},
   "outputs": [],
   "source": []
  },
  {
   "cell_type": "code",
   "execution_count": null,
   "metadata": {},
   "outputs": [],
   "source": []
  },
  {
   "cell_type": "code",
   "execution_count": null,
   "metadata": {},
   "outputs": [],
   "source": []
  },
  {
   "cell_type": "code",
   "execution_count": null,
   "metadata": {},
   "outputs": [],
   "source": []
  },
  {
   "cell_type": "code",
   "execution_count": null,
   "metadata": {},
   "outputs": [],
   "source": []
  },
  {
   "cell_type": "code",
   "execution_count": null,
   "metadata": {},
   "outputs": [],
   "source": []
  },
  {
   "cell_type": "code",
   "execution_count": null,
   "metadata": {},
   "outputs": [],
   "source": []
  },
  {
   "cell_type": "code",
   "execution_count": null,
   "metadata": {},
   "outputs": [],
   "source": []
  },
  {
   "cell_type": "code",
   "execution_count": null,
   "metadata": {},
   "outputs": [],
   "source": []
  },
  {
   "cell_type": "code",
   "execution_count": null,
   "metadata": {},
   "outputs": [],
   "source": [
    "    "
   ]
  },
  {
   "cell_type": "code",
   "execution_count": null,
   "metadata": {},
   "outputs": [],
   "source": []
  },
  {
   "cell_type": "code",
   "execution_count": null,
   "metadata": {},
   "outputs": [],
   "source": []
  },
  {
   "cell_type": "code",
   "execution_count": null,
   "metadata": {},
   "outputs": [],
   "source": []
  },
  {
   "cell_type": "code",
   "execution_count": null,
   "metadata": {},
   "outputs": [],
   "source": []
  },
  {
   "cell_type": "code",
   "execution_count": null,
   "metadata": {},
   "outputs": [],
   "source": []
  },
  {
   "cell_type": "code",
   "execution_count": null,
   "metadata": {},
   "outputs": [],
   "source": []
  },
  {
   "cell_type": "code",
   "execution_count": null,
   "metadata": {},
   "outputs": [],
   "source": []
  },
  {
   "cell_type": "code",
   "execution_count": null,
   "metadata": {},
   "outputs": [],
   "source": []
  },
  {
   "cell_type": "code",
   "execution_count": null,
   "metadata": {},
   "outputs": [],
   "source": []
  },
  {
   "cell_type": "code",
   "execution_count": null,
   "metadata": {},
   "outputs": [],
   "source": []
  },
  {
   "cell_type": "code",
   "execution_count": null,
   "metadata": {},
   "outputs": [],
   "source": []
  },
  {
   "cell_type": "code",
   "execution_count": null,
   "metadata": {},
   "outputs": [],
   "source": []
  },
  {
   "cell_type": "code",
   "execution_count": null,
   "metadata": {},
   "outputs": [],
   "source": []
  },
  {
   "cell_type": "code",
   "execution_count": null,
   "metadata": {},
   "outputs": [],
   "source": []
  },
  {
   "cell_type": "code",
   "execution_count": null,
   "metadata": {},
   "outputs": [],
   "source": []
  },
  {
   "cell_type": "code",
   "execution_count": null,
   "metadata": {},
   "outputs": [],
   "source": []
  },
  {
   "cell_type": "code",
   "execution_count": null,
   "metadata": {},
   "outputs": [],
   "source": []
  },
  {
   "cell_type": "code",
   "execution_count": null,
   "metadata": {},
   "outputs": [],
   "source": []
  },
  {
   "cell_type": "code",
   "execution_count": null,
   "metadata": {},
   "outputs": [],
   "source": []
  },
  {
   "cell_type": "code",
   "execution_count": null,
   "metadata": {},
   "outputs": [],
   "source": []
  },
  {
   "cell_type": "code",
   "execution_count": null,
   "metadata": {},
   "outputs": [],
   "source": []
  },
  {
   "cell_type": "code",
   "execution_count": 53,
   "metadata": {},
   "outputs": [],
   "source": [
    "car_img = soup1.select(\".car_img\")\n",
    "for i in car_img:\n",
    "    if(i.a):\n",
    "        if(i.a.href):\n",
    "            print(i)"
   ]
  },
  {
   "cell_type": "code",
   "execution_count": null,
   "metadata": {},
   "outputs": [],
   "source": []
  },
  {
   "cell_type": "code",
   "execution_count": null,
   "metadata": {},
   "outputs": [],
   "source": []
  },
  {
   "cell_type": "code",
   "execution_count": null,
   "metadata": {},
   "outputs": [],
   "source": []
  },
  {
   "cell_type": "code",
   "execution_count": null,
   "metadata": {},
   "outputs": [],
   "source": []
  },
  {
   "cell_type": "code",
   "execution_count": null,
   "metadata": {},
   "outputs": [],
   "source": []
  },
  {
   "cell_type": "code",
   "execution_count": null,
   "metadata": {},
   "outputs": [],
   "source": []
  },
  {
   "cell_type": "code",
   "execution_count": null,
   "metadata": {},
   "outputs": [],
   "source": []
  },
  {
   "cell_type": "code",
   "execution_count": null,
   "metadata": {},
   "outputs": [],
   "source": []
  },
  {
   "cell_type": "code",
   "execution_count": null,
   "metadata": {},
   "outputs": [],
   "source": []
  },
  {
   "cell_type": "code",
   "execution_count": null,
   "metadata": {},
   "outputs": [],
   "source": []
  },
  {
   "cell_type": "code",
   "execution_count": null,
   "metadata": {},
   "outputs": [],
   "source": []
  },
  {
   "cell_type": "code",
   "execution_count": null,
   "metadata": {},
   "outputs": [],
   "source": []
  },
  {
   "cell_type": "code",
   "execution_count": null,
   "metadata": {},
   "outputs": [],
   "source": []
  },
  {
   "cell_type": "code",
   "execution_count": null,
   "metadata": {},
   "outputs": [],
   "source": []
  },
  {
   "cell_type": "code",
   "execution_count": null,
   "metadata": {},
   "outputs": [],
   "source": []
  },
  {
   "cell_type": "code",
   "execution_count": null,
   "metadata": {},
   "outputs": [],
   "source": []
  },
  {
   "cell_type": "code",
   "execution_count": null,
   "metadata": {},
   "outputs": [],
   "source": []
  },
  {
   "cell_type": "code",
   "execution_count": null,
   "metadata": {},
   "outputs": [],
   "source": []
  },
  {
   "cell_type": "code",
   "execution_count": null,
   "metadata": {},
   "outputs": [],
   "source": []
  },
  {
   "cell_type": "code",
   "execution_count": null,
   "metadata": {},
   "outputs": [],
   "source": []
  },
  {
   "cell_type": "code",
   "execution_count": null,
   "metadata": {},
   "outputs": [],
   "source": []
  },
  {
   "cell_type": "code",
   "execution_count": null,
   "metadata": {},
   "outputs": [],
   "source": []
  },
  {
   "cell_type": "code",
   "execution_count": null,
   "metadata": {},
   "outputs": [],
   "source": []
  },
  {
   "cell_type": "code",
   "execution_count": null,
   "metadata": {},
   "outputs": [],
   "source": []
  },
  {
   "cell_type": "code",
   "execution_count": null,
   "metadata": {},
   "outputs": [],
   "source": []
  },
  {
   "cell_type": "code",
   "execution_count": null,
   "metadata": {},
   "outputs": [],
   "source": []
  },
  {
   "cell_type": "code",
   "execution_count": null,
   "metadata": {},
   "outputs": [],
   "source": []
  },
  {
   "cell_type": "code",
   "execution_count": null,
   "metadata": {},
   "outputs": [],
   "source": []
  },
  {
   "cell_type": "code",
   "execution_count": null,
   "metadata": {},
   "outputs": [],
   "source": []
  },
  {
   "cell_type": "code",
   "execution_count": null,
   "metadata": {},
   "outputs": [],
   "source": []
  },
  {
   "cell_type": "code",
   "execution_count": null,
   "metadata": {},
   "outputs": [],
   "source": []
  },
  {
   "cell_type": "code",
   "execution_count": null,
   "metadata": {},
   "outputs": [],
   "source": []
  },
  {
   "cell_type": "code",
   "execution_count": null,
   "metadata": {},
   "outputs": [],
   "source": []
  },
  {
   "cell_type": "code",
   "execution_count": null,
   "metadata": {},
   "outputs": [],
   "source": []
  },
  {
   "cell_type": "code",
   "execution_count": 12,
   "metadata": {},
   "outputs": [
    {
     "data": {
      "text/html": [
       "<div>\n",
       "<style scoped>\n",
       "    .dataframe tbody tr th:only-of-type {\n",
       "        vertical-align: middle;\n",
       "    }\n",
       "\n",
       "    .dataframe tbody tr th {\n",
       "        vertical-align: top;\n",
       "    }\n",
       "\n",
       "    .dataframe thead th {\n",
       "        text-align: right;\n",
       "    }\n",
       "</style>\n",
       "<table border=\"1\" class=\"dataframe\">\n",
       "  <thead>\n",
       "    <tr style=\"text-align: right;\">\n",
       "      <th></th>\n",
       "      <th>0</th>\n",
       "      <th>1</th>\n",
       "    </tr>\n",
       "  </thead>\n",
       "  <tbody>\n",
       "    <tr>\n",
       "      <th>0</th>\n",
       "      <td>&lt;thead&gt;&lt;tr role=\"row\"&gt;&lt;th aria-label=\"&amp;amp;nbs...</td>\n",
       "      <td>&lt;tbody&gt;&lt;tr class=\"odd\" role=\"row\"&gt;&lt;td class=\"c...</td>\n",
       "    </tr>\n",
       "  </tbody>\n",
       "</table>\n",
       "</div>"
      ],
      "text/plain": [
       "                                                   0  \\\n",
       "0  <thead><tr role=\"row\"><th aria-label=\"&amp;nbs...   \n",
       "\n",
       "                                                   1  \n",
       "0  <tbody><tr class=\"odd\" role=\"row\"><td class=\"c...  "
      ]
     },
     "execution_count": 12,
     "metadata": {},
     "output_type": "execute_result"
    }
   ],
   "source": [
    "data_table = pd.DataFrame(data)\n",
    "data_table"
   ]
  },
  {
   "cell_type": "code",
   "execution_count": null,
   "metadata": {},
   "outputs": [],
   "source": []
  },
  {
   "cell_type": "code",
   "execution_count": 14,
   "metadata": {},
   "outputs": [],
   "source": [
    "#data_table = pd.read_html(\"https://pluginamerica.org/vehicles/?fwp_type=ev\",skiprows=1)[0]\n",
    "#data_table"
   ]
  },
  {
   "cell_type": "code",
   "execution_count": null,
   "metadata": {},
   "outputs": [],
   "source": []
  },
  {
   "cell_type": "code",
   "execution_count": null,
   "metadata": {},
   "outputs": [],
   "source": []
  },
  {
   "cell_type": "code",
   "execution_count": null,
   "metadata": {},
   "outputs": [],
   "source": []
  },
  {
   "cell_type": "code",
   "execution_count": null,
   "metadata": {},
   "outputs": [],
   "source": []
  },
  {
   "cell_type": "code",
   "execution_count": null,
   "metadata": {},
   "outputs": [],
   "source": []
  },
  {
   "cell_type": "code",
   "execution_count": null,
   "metadata": {},
   "outputs": [],
   "source": []
  },
  {
   "cell_type": "code",
   "execution_count": null,
   "metadata": {},
   "outputs": [],
   "source": []
  },
  {
   "cell_type": "code",
   "execution_count": null,
   "metadata": {},
   "outputs": [],
   "source": []
  },
  {
   "cell_type": "code",
   "execution_count": null,
   "metadata": {},
   "outputs": [],
   "source": []
  },
  {
   "cell_type": "code",
   "execution_count": null,
   "metadata": {},
   "outputs": [],
   "source": []
  },
  {
   "cell_type": "code",
   "execution_count": null,
   "metadata": {},
   "outputs": [],
   "source": []
  },
  {
   "cell_type": "code",
   "execution_count": null,
   "metadata": {},
   "outputs": [],
   "source": []
  },
  {
   "cell_type": "code",
   "execution_count": null,
   "metadata": {},
   "outputs": [],
   "source": []
  },
  {
   "cell_type": "code",
   "execution_count": null,
   "metadata": {},
   "outputs": [],
   "source": []
  },
  {
   "cell_type": "code",
   "execution_count": null,
   "metadata": {},
   "outputs": [],
   "source": []
  },
  {
   "cell_type": "code",
   "execution_count": null,
   "metadata": {},
   "outputs": [],
   "source": []
  },
  {
   "cell_type": "code",
   "execution_count": null,
   "metadata": {},
   "outputs": [],
   "source": []
  },
  {
   "cell_type": "code",
   "execution_count": null,
   "metadata": {},
   "outputs": [],
   "source": []
  },
  {
   "cell_type": "code",
   "execution_count": null,
   "metadata": {},
   "outputs": [],
   "source": []
  },
  {
   "cell_type": "code",
   "execution_count": null,
   "metadata": {},
   "outputs": [],
   "source": []
  },
  {
   "cell_type": "code",
   "execution_count": null,
   "metadata": {},
   "outputs": [],
   "source": [
    "color_tag1 = soup1.select(\"#data-text\").text\n",
    "\n",
    "color_tag1"
   ]
  },
  {
   "cell_type": "code",
   "execution_count": null,
   "metadata": {},
   "outputs": [],
   "source": []
  },
  {
   "cell_type": "code",
   "execution_count": null,
   "metadata": {},
   "outputs": [],
   "source": []
  },
  {
   "cell_type": "code",
   "execution_count": null,
   "metadata": {},
   "outputs": [],
   "source": []
  },
  {
   "cell_type": "code",
   "execution_count": null,
   "metadata": {},
   "outputs": [],
   "source": []
  },
  {
   "cell_type": "code",
   "execution_count": null,
   "metadata": {},
   "outputs": [],
   "source": []
  },
  {
   "cell_type": "code",
   "execution_count": null,
   "metadata": {},
   "outputs": [],
   "source": []
  },
  {
   "cell_type": "code",
   "execution_count": null,
   "metadata": {},
   "outputs": [],
   "source": []
  },
  {
   "cell_type": "code",
   "execution_count": null,
   "metadata": {},
   "outputs": [],
   "source": []
  },
  {
   "cell_type": "code",
   "execution_count": null,
   "metadata": {},
   "outputs": [],
   "source": []
  },
  {
   "cell_type": "code",
   "execution_count": null,
   "metadata": {},
   "outputs": [],
   "source": []
  },
  {
   "cell_type": "code",
   "execution_count": null,
   "metadata": {},
   "outputs": [],
   "source": []
  },
  {
   "cell_type": "code",
   "execution_count": null,
   "metadata": {},
   "outputs": [],
   "source": []
  },
  {
   "cell_type": "code",
   "execution_count": null,
   "metadata": {},
   "outputs": [],
   "source": []
  },
  {
   "cell_type": "code",
   "execution_count": null,
   "metadata": {},
   "outputs": [],
   "source": []
  },
  {
   "cell_type": "code",
   "execution_count": null,
   "metadata": {},
   "outputs": [],
   "source": []
  },
  {
   "cell_type": "code",
   "execution_count": null,
   "metadata": {},
   "outputs": [],
   "source": []
  },
  {
   "cell_type": "code",
   "execution_count": null,
   "metadata": {},
   "outputs": [],
   "source": []
  },
  {
   "cell_type": "code",
   "execution_count": null,
   "metadata": {},
   "outputs": [],
   "source": []
  },
  {
   "cell_type": "code",
   "execution_count": null,
   "metadata": {},
   "outputs": [],
   "source": []
  },
  {
   "cell_type": "code",
   "execution_count": null,
   "metadata": {},
   "outputs": [],
   "source": []
  },
  {
   "cell_type": "code",
   "execution_count": null,
   "metadata": {},
   "outputs": [],
   "source": []
  },
  {
   "cell_type": "code",
   "execution_count": null,
   "metadata": {},
   "outputs": [],
   "source": []
  },
  {
   "cell_type": "code",
   "execution_count": null,
   "metadata": {},
   "outputs": [],
   "source": []
  },
  {
   "cell_type": "code",
   "execution_count": null,
   "metadata": {},
   "outputs": [],
   "source": []
  },
  {
   "cell_type": "code",
   "execution_count": null,
   "metadata": {},
   "outputs": [],
   "source": []
  },
  {
   "cell_type": "code",
   "execution_count": null,
   "metadata": {},
   "outputs": [],
   "source": []
  },
  {
   "cell_type": "code",
   "execution_count": null,
   "metadata": {},
   "outputs": [],
   "source": []
  },
  {
   "cell_type": "code",
   "execution_count": null,
   "metadata": {},
   "outputs": [],
   "source": []
  },
  {
   "cell_type": "code",
   "execution_count": null,
   "metadata": {},
   "outputs": [],
   "source": []
  },
  {
   "cell_type": "code",
   "execution_count": null,
   "metadata": {},
   "outputs": [],
   "source": []
  },
  {
   "cell_type": "code",
   "execution_count": null,
   "metadata": {},
   "outputs": [],
   "source": []
  },
  {
   "cell_type": "code",
   "execution_count": null,
   "metadata": {},
   "outputs": [],
   "source": []
  },
  {
   "cell_type": "code",
   "execution_count": null,
   "metadata": {},
   "outputs": [],
   "source": [
    "for s in price.split():\n",
    "    if s.isdigit():\n",
    "        s1 = s\n",
    "        print(s1)\n",
    "    "
   ]
  },
  {
   "cell_type": "code",
   "execution_count": null,
   "metadata": {},
   "outputs": [],
   "source": []
  },
  {
   "cell_type": "code",
   "execution_count": null,
   "metadata": {},
   "outputs": [],
   "source": []
  },
  {
   "cell_type": "code",
   "execution_count": null,
   "metadata": {},
   "outputs": [],
   "source": []
  },
  {
   "cell_type": "code",
   "execution_count": null,
   "metadata": {},
   "outputs": [],
   "source": []
  },
  {
   "cell_type": "code",
   "execution_count": null,
   "metadata": {},
   "outputs": [],
   "source": []
  },
  {
   "cell_type": "code",
   "execution_count": null,
   "metadata": {},
   "outputs": [],
   "source": []
  },
  {
   "cell_type": "code",
   "execution_count": null,
   "metadata": {},
   "outputs": [],
   "source": []
  },
  {
   "cell_type": "code",
   "execution_count": null,
   "metadata": {},
   "outputs": [],
   "source": []
  },
  {
   "cell_type": "code",
   "execution_count": null,
   "metadata": {},
   "outputs": [],
   "source": []
  },
  {
   "cell_type": "code",
   "execution_count": null,
   "metadata": {},
   "outputs": [],
   "source": []
  },
  {
   "cell_type": "code",
   "execution_count": null,
   "metadata": {},
   "outputs": [],
   "source": []
  },
  {
   "cell_type": "code",
   "execution_count": null,
   "metadata": {},
   "outputs": [],
   "source": []
  },
  {
   "cell_type": "code",
   "execution_count": null,
   "metadata": {},
   "outputs": [],
   "source": []
  },
  {
   "cell_type": "code",
   "execution_count": null,
   "metadata": {},
   "outputs": [],
   "source": []
  },
  {
   "cell_type": "code",
   "execution_count": null,
   "metadata": {},
   "outputs": [],
   "source": []
  },
  {
   "cell_type": "code",
   "execution_count": null,
   "metadata": {},
   "outputs": [],
   "source": []
  },
  {
   "cell_type": "code",
   "execution_count": null,
   "metadata": {},
   "outputs": [],
   "source": []
  },
  {
   "cell_type": "code",
   "execution_count": null,
   "metadata": {},
   "outputs": [],
   "source": []
  },
  {
   "cell_type": "code",
   "execution_count": null,
   "metadata": {},
   "outputs": [],
   "source": []
  },
  {
   "cell_type": "code",
   "execution_count": null,
   "metadata": {},
   "outputs": [],
   "source": []
  },
  {
   "cell_type": "code",
   "execution_count": null,
   "metadata": {},
   "outputs": [],
   "source": []
  },
  {
   "cell_type": "code",
   "execution_count": null,
   "metadata": {},
   "outputs": [],
   "source": []
  },
  {
   "cell_type": "code",
   "execution_count": null,
   "metadata": {},
   "outputs": [],
   "source": []
  },
  {
   "cell_type": "code",
   "execution_count": null,
   "metadata": {},
   "outputs": [],
   "source": []
  },
  {
   "cell_type": "code",
   "execution_count": null,
   "metadata": {},
   "outputs": [],
   "source": []
  },
  {
   "cell_type": "code",
   "execution_count": null,
   "metadata": {},
   "outputs": [],
   "source": []
  },
  {
   "cell_type": "code",
   "execution_count": null,
   "metadata": {},
   "outputs": [],
   "source": []
  }
 ],
 "metadata": {
  "kernelspec": {
   "display_name": "Python [conda env:pythondata]",
   "language": "python",
   "name": "conda-env-pythondata-py"
  }
 },
 "nbformat": 4,
 "nbformat_minor": 2
}
